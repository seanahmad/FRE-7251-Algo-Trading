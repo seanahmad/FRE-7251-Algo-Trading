{
 "cells": [
  {
   "cell_type": "code",
   "execution_count": 255,
   "metadata": {},
   "outputs": [],
   "source": [
    "import os\n",
    "import pandas as pd\n",
    "import numpy as np\n",
    "import matplotlib.pyplot as plt"
   ]
  },
  {
   "cell_type": "code",
   "execution_count": 256,
   "metadata": {},
   "outputs": [],
   "source": [
    "TICK_DATA = os.path.join(os.getcwd(), '2.csv')\n",
    "ORDER_DATA = os.path.join(os.getcwd(), 'Assignment#3_Orders.xlsx')\n",
    "\n",
    "tick = pd.read_csv(TICK_DATA, encoding='utf-16-le')\n",
    "order = pd.read_excel(ORDER_DATA, header=3, usecols=[27,28,29,30,31,32,33])"
   ]
  },
  {
   "cell_type": "code",
   "execution_count": 257,
   "metadata": {},
   "outputs": [],
   "source": [
    "tick['DateTime'] = pd.to_datetime(tick['DateTime'], format=\"%m/%d/%Y %H:%M:%S.%f\")\n",
    "order['DateTime'] = pd.to_datetime(order['datetime'], format=\"%Y-%m-%d %H:%M:S.%f\")"
   ]
  },
  {
   "cell_type": "code",
   "execution_count": 258,
   "metadata": {},
   "outputs": [],
   "source": [
    "order = order.drop(['datetime'], axis=1).set_index('DateTime')\n",
    "tick = tick.set_index('DateTime')"
   ]
  },
  {
   "cell_type": "code",
   "execution_count": 259,
   "metadata": {
    "scrolled": false
   },
   "outputs": [
    {
     "data": {
      "text/html": [
       "<div>\n",
       "<style scoped>\n",
       "    .dataframe tbody tr th:only-of-type {\n",
       "        vertical-align: middle;\n",
       "    }\n",
       "\n",
       "    .dataframe tbody tr th {\n",
       "        vertical-align: top;\n",
       "    }\n",
       "\n",
       "    .dataframe thead th {\n",
       "        text-align: right;\n",
       "    }\n",
       "</style>\n",
       "<table border=\"1\" class=\"dataframe\">\n",
       "  <thead>\n",
       "    <tr style=\"text-align: right;\">\n",
       "      <th></th>\n",
       "      <th>trade_id</th>\n",
       "      <th>buy/sell</th>\n",
       "      <th>notional</th>\n",
       "      <th>price</th>\n",
       "      <th>instrument</th>\n",
       "      <th>alpha</th>\n",
       "    </tr>\n",
       "    <tr>\n",
       "      <th>DateTime</th>\n",
       "      <th></th>\n",
       "      <th></th>\n",
       "      <th></th>\n",
       "      <th></th>\n",
       "      <th></th>\n",
       "      <th></th>\n",
       "    </tr>\n",
       "  </thead>\n",
       "  <tbody>\n",
       "    <tr>\n",
       "      <th>2018-01-07 19:07:49</th>\n",
       "      <td>107414</td>\n",
       "      <td>1</td>\n",
       "      <td>150000</td>\n",
       "      <td>1.35724</td>\n",
       "      <td>GBP/USD</td>\n",
       "      <td>SOM</td>\n",
       "    </tr>\n",
       "    <tr>\n",
       "      <th>2018-01-07 19:15:23</th>\n",
       "      <td>107427</td>\n",
       "      <td>1</td>\n",
       "      <td>310000</td>\n",
       "      <td>1.35725</td>\n",
       "      <td>GBP/USD</td>\n",
       "      <td>SOM</td>\n",
       "    </tr>\n",
       "    <tr>\n",
       "      <th>2018-01-08 07:38:48</th>\n",
       "      <td>107638</td>\n",
       "      <td>-1</td>\n",
       "      <td>310000</td>\n",
       "      <td>1.35453</td>\n",
       "      <td>GBP/USD</td>\n",
       "      <td>SOM</td>\n",
       "    </tr>\n",
       "    <tr>\n",
       "      <th>2018-01-08 08:10:55</th>\n",
       "      <td>107649</td>\n",
       "      <td>-1</td>\n",
       "      <td>310000</td>\n",
       "      <td>1.35371</td>\n",
       "      <td>GBP/USD</td>\n",
       "      <td>SOM</td>\n",
       "    </tr>\n",
       "    <tr>\n",
       "      <th>2018-01-08 08:19:10</th>\n",
       "      <td>107654</td>\n",
       "      <td>-1</td>\n",
       "      <td>320000</td>\n",
       "      <td>1.35394</td>\n",
       "      <td>GBP/USD</td>\n",
       "      <td>SOM</td>\n",
       "    </tr>\n",
       "  </tbody>\n",
       "</table>\n",
       "</div>"
      ],
      "text/plain": [
       "                     trade_id  buy/sell  notional    price instrument alpha\n",
       "DateTime                                                                   \n",
       "2018-01-07 19:07:49    107414         1    150000  1.35724    GBP/USD   SOM\n",
       "2018-01-07 19:15:23    107427         1    310000  1.35725    GBP/USD   SOM\n",
       "2018-01-08 07:38:48    107638        -1    310000  1.35453    GBP/USD   SOM\n",
       "2018-01-08 08:10:55    107649        -1    310000  1.35371    GBP/USD   SOM\n",
       "2018-01-08 08:19:10    107654        -1    320000  1.35394    GBP/USD   SOM"
      ]
     },
     "execution_count": 259,
     "metadata": {},
     "output_type": "execute_result"
    }
   ],
   "source": [
    "order.head()"
   ]
  },
  {
   "cell_type": "code",
   "execution_count": 260,
   "metadata": {
    "scrolled": false
   },
   "outputs": [
    {
     "data": {
      "text/html": [
       "<div>\n",
       "<style scoped>\n",
       "    .dataframe tbody tr th:only-of-type {\n",
       "        vertical-align: middle;\n",
       "    }\n",
       "\n",
       "    .dataframe tbody tr th {\n",
       "        vertical-align: top;\n",
       "    }\n",
       "\n",
       "    .dataframe thead th {\n",
       "        text-align: right;\n",
       "    }\n",
       "</style>\n",
       "<table border=\"1\" class=\"dataframe\">\n",
       "  <thead>\n",
       "    <tr style=\"text-align: right;\">\n",
       "      <th></th>\n",
       "      <th>Bid</th>\n",
       "      <th>Ask</th>\n",
       "    </tr>\n",
       "    <tr>\n",
       "      <th>DateTime</th>\n",
       "      <th></th>\n",
       "      <th></th>\n",
       "    </tr>\n",
       "  </thead>\n",
       "  <tbody>\n",
       "    <tr>\n",
       "      <th>2018-01-07 22:02:03.832</th>\n",
       "      <td>1.35560</td>\n",
       "      <td>1.35616</td>\n",
       "    </tr>\n",
       "    <tr>\n",
       "      <th>2018-01-07 22:02:03.845</th>\n",
       "      <td>1.35560</td>\n",
       "      <td>1.35617</td>\n",
       "    </tr>\n",
       "    <tr>\n",
       "      <th>2018-01-07 22:02:03.851</th>\n",
       "      <td>1.35554</td>\n",
       "      <td>1.35617</td>\n",
       "    </tr>\n",
       "    <tr>\n",
       "      <th>2018-01-07 22:02:03.859</th>\n",
       "      <td>1.35554</td>\n",
       "      <td>1.35618</td>\n",
       "    </tr>\n",
       "    <tr>\n",
       "      <th>2018-01-07 22:02:04.114</th>\n",
       "      <td>1.35554</td>\n",
       "      <td>1.35619</td>\n",
       "    </tr>\n",
       "  </tbody>\n",
       "</table>\n",
       "</div>"
      ],
      "text/plain": [
       "                             Bid      Ask\n",
       "DateTime                                 \n",
       "2018-01-07 22:02:03.832  1.35560  1.35616\n",
       "2018-01-07 22:02:03.845  1.35560  1.35617\n",
       "2018-01-07 22:02:03.851  1.35554  1.35617\n",
       "2018-01-07 22:02:03.859  1.35554  1.35618\n",
       "2018-01-07 22:02:04.114  1.35554  1.35619"
      ]
     },
     "execution_count": 260,
     "metadata": {},
     "output_type": "execute_result"
    }
   ],
   "source": [
    "tick.head() "
   ]
  },
  {
   "cell_type": "markdown",
   "metadata": {},
   "source": [
    "# Market Taking"
   ]
  },
  {
   "cell_type": "code",
   "execution_count": 309,
   "metadata": {},
   "outputs": [],
   "source": [
    "def MarketMaking(order, tick):\n",
    "    \"\"\"\n",
    "    parameters:\n",
    "    order: pd.dataframe, specifies when to buy and sell\n",
    "    tick: pd.dataframe, specifies tick data including Bid and Ask\n",
    "    \n",
    "    return:\n",
    "    PnL: list of PnL of every fulfilled trade, specifies PnL in total\n",
    "    \"\"\"\n",
    "    PnL = []\n",
    "    for i in order.index:\n",
    "        bid = tick.truncate(before=i).iloc[0,0] ## bid price fulfilled\n",
    "        ask = tick.truncate(before=i).iloc[0,1] ## ask price fulfilled\n",
    "        PnL.append(bid - ask)\n",
    "    \n",
    "    tick.iloc[tick.index.get_loc(a, method='backfill')]\n",
    "    \n",
    "    \n",
    "    return PnL\n",
    "    "
   ]
  },
  {
   "cell_type": "code",
   "execution_count": 311,
   "metadata": {},
   "outputs": [],
   "source": [
    "PnL = MarketMaking(order, tick)"
   ]
  },
  {
   "cell_type": "code",
   "execution_count": 312,
   "metadata": {},
   "outputs": [],
   "source": [
    "a = order.index[0]"
   ]
  },
  {
   "cell_type": "code",
   "execution_count": 315,
   "metadata": {},
   "outputs": [
    {
     "data": {
      "text/plain": [
       "Bid    1.35560\n",
       "Ask    1.35616\n",
       "Name: 2018-01-07 22:02:03.832000, dtype: float64"
      ]
     },
     "execution_count": 315,
     "metadata": {},
     "output_type": "execute_result"
    }
   ],
   "source": [
    "tick.iloc[tick.index.get_loc(a, method='backfill')]"
   ]
  },
  {
   "cell_type": "code",
   "execution_count": null,
   "metadata": {},
   "outputs": [],
   "source": []
  },
  {
   "cell_type": "code",
   "execution_count": null,
   "metadata": {},
   "outputs": [],
   "source": []
  },
  {
   "cell_type": "code",
   "execution_count": 307,
   "metadata": {
    "scrolled": true
   },
   "outputs": [],
   "source": [
    "PnL = 0\n",
    "for i in order.index:\n",
    "    bid = tick.truncate(before=i).iloc[0,0] ## bid price fulfilled\n",
    "    ask = tick.truncate(before=i).iloc[0,1] ## ask price fulfilled\n",
    "    PnL = bid - ask\n",
    "    "
   ]
  },
  {
   "cell_type": "code",
   "execution_count": 308,
   "metadata": {},
   "outputs": [
    {
     "data": {
      "text/plain": [
       "-5.0000000000105516e-05"
      ]
     },
     "execution_count": 308,
     "metadata": {},
     "output_type": "execute_result"
    }
   ],
   "source": [
    "PnL"
   ]
  },
  {
   "cell_type": "code",
   "execution_count": 291,
   "metadata": {},
   "outputs": [],
   "source": [
    "order.ix?"
   ]
  },
  {
   "cell_type": "code",
   "execution_count": 284,
   "metadata": {
    "scrolled": true
   },
   "outputs": [
    {
     "data": {
      "text/plain": [
       "Timestamp('2018-01-07 19:07:49')"
      ]
     },
     "execution_count": 284,
     "metadata": {},
     "output_type": "execute_result"
    }
   ],
   "source": [
    "order.index[0]"
   ]
  },
  {
   "cell_type": "code",
   "execution_count": 302,
   "metadata": {},
   "outputs": [],
   "source": [
    "bid = tick.truncate(before=order.index[0]).iloc[0,0]\n",
    "ask = tick.truncate(before=order.index[0]).iloc[0,1]\n",
    "PnL = bid - ask"
   ]
  },
  {
   "cell_type": "code",
   "execution_count": 303,
   "metadata": {},
   "outputs": [
    {
     "data": {
      "text/plain": [
       "-0.000560000000000116"
      ]
     },
     "execution_count": 303,
     "metadata": {},
     "output_type": "execute_result"
    }
   ],
   "source": [
    "PnL"
   ]
  },
  {
   "cell_type": "code",
   "execution_count": 268,
   "metadata": {},
   "outputs": [
    {
     "ename": "SyntaxError",
     "evalue": "unexpected EOF while parsing (<ipython-input-268-2ce6fe9f25da>, line 4)",
     "output_type": "error",
     "traceback": [
      "\u001b[0;36m  File \u001b[0;32m\"<ipython-input-268-2ce6fe9f25da>\"\u001b[0;36m, line \u001b[0;32m4\u001b[0m\n\u001b[0;31m    \u001b[0m\n\u001b[0m    ^\u001b[0m\n\u001b[0;31mSyntaxError\u001b[0m\u001b[0;31m:\u001b[0m unexpected EOF while parsing\n"
     ]
    }
   ],
   "source": [
    "for i in order['buy/sell']:\n",
    "    if i == 1:\n",
    "        print(1)\n",
    "elif order['buy/sell'] == -1:\n",
    "    "
   ]
  },
  {
   "cell_type": "code",
   "execution_count": 277,
   "metadata": {},
   "outputs": [
    {
     "data": {
      "text/plain": [
       "1"
      ]
     },
     "execution_count": 277,
     "metadata": {},
     "output_type": "execute_result"
    }
   ],
   "source": [
    "order.iloc[0]['buy/sell']"
   ]
  },
  {
   "cell_type": "code",
   "execution_count": 269,
   "metadata": {},
   "outputs": [
    {
     "data": {
      "text/plain": [
       "pandas.core.series.Series"
      ]
     },
     "execution_count": 269,
     "metadata": {},
     "output_type": "execute_result"
    }
   ],
   "source": [
    "type(order['buy/sell'])"
   ]
  },
  {
   "cell_type": "code",
   "execution_count": 275,
   "metadata": {},
   "outputs": [
    {
     "data": {
      "text/plain": [
       "DatetimeIndex(['2018-01-07 19:07:49', '2018-01-07 19:15:23',\n",
       "               '2018-01-08 07:38:48', '2018-01-08 08:10:55',\n",
       "               '2018-01-08 08:19:10', '2018-01-08 08:23:16',\n",
       "               '2018-01-08 08:34:40', '2018-01-08 11:25:13',\n",
       "               '2018-01-08 11:42:08', '2018-01-08 12:15:34',\n",
       "               ...\n",
       "               '2018-01-12 13:04:03', '2018-01-12 14:06:24',\n",
       "               '2018-01-12 14:33:14', '2018-01-12 15:02:01',\n",
       "               '2018-01-12 15:17:02', '2018-01-12 15:32:12',\n",
       "               '2018-01-12 16:03:23', '2018-01-12 16:03:24',\n",
       "               '2018-01-12 16:18:07', '2018-01-12 16:33:22'],\n",
       "              dtype='datetime64[ns]', name='DateTime', length=369, freq=None)"
      ]
     },
     "execution_count": 275,
     "metadata": {},
     "output_type": "execute_result"
    }
   ],
   "source": []
  },
  {
   "cell_type": "code",
   "execution_count": null,
   "metadata": {},
   "outputs": [],
   "source": []
  }
 ],
 "metadata": {
  "kernelspec": {
   "display_name": "Python 3",
   "language": "python",
   "name": "python3"
  },
  "language_info": {
   "codemirror_mode": {
    "name": "ipython",
    "version": 3
   },
   "file_extension": ".py",
   "mimetype": "text/x-python",
   "name": "python",
   "nbconvert_exporter": "python",
   "pygments_lexer": "ipython3",
   "version": "3.6.8"
  },
  "toc": {
   "base_numbering": 1,
   "nav_menu": {},
   "number_sections": true,
   "sideBar": true,
   "skip_h1_title": false,
   "title_cell": "Table of Contents",
   "title_sidebar": "Contents",
   "toc_cell": false,
   "toc_position": {},
   "toc_section_display": true,
   "toc_window_display": false
  }
 },
 "nbformat": 4,
 "nbformat_minor": 2
}
