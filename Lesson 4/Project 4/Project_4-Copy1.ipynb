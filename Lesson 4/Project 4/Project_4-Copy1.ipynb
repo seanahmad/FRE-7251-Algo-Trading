{
 "cells": [
  {
   "cell_type": "code",
   "execution_count": 1,
   "metadata": {},
   "outputs": [],
   "source": [
    "import os\n",
    "import random\n",
    "import numpy as np\n",
    "import pandas as pd\n",
    "import datetime as dt\n",
    "import matplotlib.pyplot as plt"
   ]
  },
  {
   "cell_type": "code",
   "execution_count": 2,
   "metadata": {},
   "outputs": [],
   "source": [
    "TICK_DATA = os.path.join(os.getcwd(), '2.csv')\n",
    "ORDER_DATA = os.path.join(os.getcwd(), 'MMOrderSet.csv')\n",
    "\n",
    "tick = pd.read_csv(TICK_DATA, encoding='utf-16-le')\n",
    "order = pd.read_csv(ORDER_DATA)\n",
    "\n",
    "tick['DateTime'] = pd.to_datetime(tick['DateTime'], format=\"%m/%d/%Y %H:%M:%S.%f\")\n",
    "order['DateTime'] = pd.to_datetime(order['Time'])\n",
    "order.drop(['Time'], axis=1, inplace=True)\n",
    "order = order[['DateTime', 'Side']]"
   ]
  },
  {
   "cell_type": "code",
   "execution_count": 3,
   "metadata": {},
   "outputs": [],
   "source": [
    "# tick = tick.iloc[tick.index%70 == 0]"
   ]
  },
  {
   "cell_type": "code",
   "execution_count": 4,
   "metadata": {
    "scrolled": false
   },
   "outputs": [
    {
     "data": {
      "text/html": [
       "<div>\n",
       "<style scoped>\n",
       "    .dataframe tbody tr th:only-of-type {\n",
       "        vertical-align: middle;\n",
       "    }\n",
       "\n",
       "    .dataframe tbody tr th {\n",
       "        vertical-align: top;\n",
       "    }\n",
       "\n",
       "    .dataframe thead th {\n",
       "        text-align: right;\n",
       "    }\n",
       "</style>\n",
       "<table border=\"1\" class=\"dataframe\">\n",
       "  <thead>\n",
       "    <tr style=\"text-align: right;\">\n",
       "      <th></th>\n",
       "      <th>DateTime</th>\n",
       "      <th>Bid</th>\n",
       "      <th>Ask</th>\n",
       "    </tr>\n",
       "  </thead>\n",
       "  <tbody>\n",
       "    <tr>\n",
       "      <th>0</th>\n",
       "      <td>2018-01-07 22:02:03.832</td>\n",
       "      <td>1.35560</td>\n",
       "      <td>1.35616</td>\n",
       "    </tr>\n",
       "    <tr>\n",
       "      <th>1</th>\n",
       "      <td>2018-01-07 22:02:03.845</td>\n",
       "      <td>1.35560</td>\n",
       "      <td>1.35617</td>\n",
       "    </tr>\n",
       "    <tr>\n",
       "      <th>2</th>\n",
       "      <td>2018-01-07 22:02:03.851</td>\n",
       "      <td>1.35554</td>\n",
       "      <td>1.35617</td>\n",
       "    </tr>\n",
       "    <tr>\n",
       "      <th>3</th>\n",
       "      <td>2018-01-07 22:02:03.859</td>\n",
       "      <td>1.35554</td>\n",
       "      <td>1.35618</td>\n",
       "    </tr>\n",
       "    <tr>\n",
       "      <th>4</th>\n",
       "      <td>2018-01-07 22:02:04.114</td>\n",
       "      <td>1.35554</td>\n",
       "      <td>1.35619</td>\n",
       "    </tr>\n",
       "  </tbody>\n",
       "</table>\n",
       "</div>"
      ],
      "text/plain": [
       "                 DateTime      Bid      Ask\n",
       "0 2018-01-07 22:02:03.832  1.35560  1.35616\n",
       "1 2018-01-07 22:02:03.845  1.35560  1.35617\n",
       "2 2018-01-07 22:02:03.851  1.35554  1.35617\n",
       "3 2018-01-07 22:02:03.859  1.35554  1.35618\n",
       "4 2018-01-07 22:02:04.114  1.35554  1.35619"
      ]
     },
     "execution_count": 4,
     "metadata": {},
     "output_type": "execute_result"
    }
   ],
   "source": [
    "tick.head()"
   ]
  },
  {
   "cell_type": "code",
   "execution_count": 5,
   "metadata": {},
   "outputs": [],
   "source": [
    "# tick = tick.sort_values(by=['DateTime'])\n",
    "# tick.reset_index(drop=True, inplace=True)\n",
    "# tick.head()"
   ]
  },
  {
   "cell_type": "code",
   "execution_count": 6,
   "metadata": {},
   "outputs": [
    {
     "data": {
      "text/plain": [
       "(1537052, 3)"
      ]
     },
     "execution_count": 6,
     "metadata": {},
     "output_type": "execute_result"
    }
   ],
   "source": [
    "tick.shape"
   ]
  },
  {
   "cell_type": "code",
   "execution_count": 7,
   "metadata": {},
   "outputs": [
    {
     "data": {
      "text/html": [
       "<div>\n",
       "<style scoped>\n",
       "    .dataframe tbody tr th:only-of-type {\n",
       "        vertical-align: middle;\n",
       "    }\n",
       "\n",
       "    .dataframe tbody tr th {\n",
       "        vertical-align: top;\n",
       "    }\n",
       "\n",
       "    .dataframe thead th {\n",
       "        text-align: right;\n",
       "    }\n",
       "</style>\n",
       "<table border=\"1\" class=\"dataframe\">\n",
       "  <thead>\n",
       "    <tr style=\"text-align: right;\">\n",
       "      <th></th>\n",
       "      <th>DateTime</th>\n",
       "      <th>Side</th>\n",
       "    </tr>\n",
       "  </thead>\n",
       "  <tbody>\n",
       "    <tr>\n",
       "      <th>0</th>\n",
       "      <td>2018-01-07 22:04:12</td>\n",
       "      <td>B</td>\n",
       "    </tr>\n",
       "    <tr>\n",
       "      <th>1</th>\n",
       "      <td>2018-01-07 22:04:13</td>\n",
       "      <td>S</td>\n",
       "    </tr>\n",
       "    <tr>\n",
       "      <th>2</th>\n",
       "      <td>2018-01-07 22:04:14</td>\n",
       "      <td>B</td>\n",
       "    </tr>\n",
       "    <tr>\n",
       "      <th>3</th>\n",
       "      <td>2018-01-07 22:04:15</td>\n",
       "      <td>S</td>\n",
       "    </tr>\n",
       "    <tr>\n",
       "      <th>4</th>\n",
       "      <td>2018-01-07 22:04:16</td>\n",
       "      <td>B</td>\n",
       "    </tr>\n",
       "  </tbody>\n",
       "</table>\n",
       "</div>"
      ],
      "text/plain": [
       "             DateTime Side\n",
       "0 2018-01-07 22:04:12    B\n",
       "1 2018-01-07 22:04:13    S\n",
       "2 2018-01-07 22:04:14    B\n",
       "3 2018-01-07 22:04:15    S\n",
       "4 2018-01-07 22:04:16    B"
      ]
     },
     "execution_count": 7,
     "metadata": {},
     "output_type": "execute_result"
    }
   ],
   "source": [
    "order.head()"
   ]
  },
  {
   "cell_type": "code",
   "execution_count": 9,
   "metadata": {},
   "outputs": [],
   "source": [
    "raw = pd.concat([tick, order], axis=0, sort=False).sort_values(by=['DateTime'])\n",
    "raw.reset_index(drop=True, inplace=True)"
   ]
  },
  {
   "cell_type": "code",
   "execution_count": null,
   "metadata": {},
   "outputs": [],
   "source": [
    "raw['Side'].fillna('T', inplace=True)\n",
    "raw['Bid'].fillna('0', inplace=True)\n",
    "raw['Ask'].fillna('0', inplace=True)"
   ]
  },
  {
   "cell_type": "code",
   "execution_count": 175,
   "metadata": {},
   "outputs": [],
   "source": [
    "# flag = 1\n",
    "# PnL = 0\n",
    "# NetPos = 0\n",
    "# CashPos = 0\n",
    "\n",
    "K = 10 # open risk\n",
    "L = 1 # Max PnL Loss\n",
    "p = 0.5 # execution probability if at the market\n",
    "q = 0.25 # follow-up order probability if executed\n",
    "X = dt.timedelta(milliseconds=10) # reaction time"
   ]
  },
  {
   "cell_type": "code",
   "execution_count": 35,
   "metadata": {},
   "outputs": [],
   "source": [
    "# M_Time = data.loc[0, 'DateTime']\n",
    "# M_Bid = data.loc[0, 'Bid']\n",
    "# M_Ask = data.loc[0, 'Ask']\n",
    "\n",
    "# Q_Time = M_Time + X\n",
    "# Q_Bid = M_Bid + 0.00001\n",
    "# Q_Ask = M_Ask - 0.00001\n",
    "\n",
    "# Q_Time_Last = Q_Time\n",
    "# Q_Bid_Last = Q_Bid\n",
    "# Q_Ask_Last = Q_Ask\n",
    "\n",
    "# O_Time = 0"
   ]
  },
  {
   "cell_type": "code",
   "execution_count": 176,
   "metadata": {},
   "outputs": [],
   "source": [
    "raw.loc[:, 'PnL'] = 0\n",
    "raw.loc[:, 'Net Position'] = 0\n",
    "raw.loc[:, 'Quote Bid'] = 0\n",
    "raw.loc[:, 'Quote Ask'] = 0"
   ]
  },
  {
   "cell_type": "code",
   "execution_count": 191,
   "metadata": {},
   "outputs": [],
   "source": [
    "def MarketMaking(data):\n",
    "    \n",
    "    flag = 1\n",
    "    PnL = 0\n",
    "    NetPos = 0\n",
    "    CashPos = 0\n",
    "    \n",
    "    M_Time = data.loc[0, 'DateTime']\n",
    "    M_Bid = data.loc[0, 'Bid']\n",
    "    M_Ask = data.loc[0, 'Ask']\n",
    "\n",
    "    Q_Time = M_Time + X\n",
    "    Q_Bid = M_Bid + 0.00001\n",
    "    Q_Ask = M_Ask - 0.00001\n",
    "\n",
    "    Q_Time_Last = Q_Time\n",
    "    Q_Bid_Last = Q_Bid\n",
    "    Q_Ask_Last = Q_Ask\n",
    "\n",
    "    O_Time = 0\n",
    "\n",
    "    for i in range(1,len(data)):\n",
    "\n",
    "        if data.loc[i, 'Side'] == 'T':\n",
    "\n",
    "            Q_Time_Last = Q_Time\n",
    "            Q_Bid_Last = Q_Bid\n",
    "            Q_Ask_Last = Q_Ask\n",
    "\n",
    "            M_Time = data.loc[i, 'DateTime']\n",
    "            M_Bid = data.loc[i, 'Bid']\n",
    "            M_Ask = data.loc[i, 'Ask']\n",
    "\n",
    "            Q_Time = M_Time + X\n",
    "            if flag == 2:\n",
    "                Q_Bid = M_Bid + 0.00001\n",
    "                Q_Ask = M_Ask - 0.00001\n",
    "            elif flag == 0:\n",
    "                Q_Bid = M_Bid\n",
    "                Q_Ask = M_Ask\n",
    "            elif flag == -1:\n",
    "                Q_Bid = M_Bid + 0.00001\n",
    "                Q_Ask = M_Ask + 0.00001\n",
    "            elif flag == 1:\n",
    "                Q_Bid = M_Bid - 0.00001\n",
    "                Q_Ask = M_Ask - 0.00001\n",
    "\n",
    "            if NetPos <= 0:\n",
    "                data.loc[i, 'PnL'] = NetPos*M_Ask + CashPos\n",
    "            else:\n",
    "                data.loc[i, 'PnL'] = NetPos*M_Bid + CashPos\n",
    "            data.loc[i, 'Net Position'] = NetPos\n",
    "\n",
    "        else:\n",
    "            if data.loc[i, 'Side'] == 'S':\n",
    "                O_Time = data.loc[i, 'DateTime']\n",
    "\n",
    "                if Q_Time_Last <= O_Time < Q_Time:\n",
    "                    if Q_Bid_Last > M_Bid:\n",
    "                        if random.random() <= q: \n",
    "                            NetPos += 2\n",
    "                            CashPos -= 2*Q_Bid_last\n",
    "                        else: \n",
    "                            NetPos += 1\n",
    "                            CashPos -= Q_Bid_Last\n",
    "                        PnL = NetPos*M_Bid + CashPos\n",
    "                    if Q_Bid_Last == M_Bid:\n",
    "                        if random.random() <= p:\n",
    "                            NetPos += 1\n",
    "                            CashPos -= Q_Bid_Last\n",
    "                            PnL = NetPos*M_Bid + CashPos\n",
    "                        else:\n",
    "                            NetPos += 0\n",
    "                            CashPos -= 0\n",
    "                            PnL = NetPos*M_Bid + CashPos\n",
    "                    if Q_Bid_Last < M_Bid:\n",
    "                        NetPos += 0\n",
    "                        CashPos -= 0\n",
    "                        PnL = NetPos*M_Bid + CashPos\n",
    "\n",
    "                if O_Time >= Q_Time:\n",
    "                    if Q_Bid > M_Bid:\n",
    "                        if random.random() <= q:\n",
    "                            NetPos += 2\n",
    "                            CashPos -= 2*Q_Bid\n",
    "                        else: \n",
    "                            NetPos += 1\n",
    "                            CashPos -= Q_Bid\n",
    "                        PnL = NetPos*M_Bid + CashPos\n",
    "                    if Q_Bid == M_Bid:\n",
    "                        if random.random() <= p:\n",
    "                            NetPos += 1\n",
    "                            CashPos -= Q_Bid\n",
    "                            PnL = NetPos*M_Bid + CashPos\n",
    "                        else:\n",
    "                            NetPos += 0\n",
    "                            CashPos -= 0\n",
    "                            PnL = NetPos*M_Bid + CashPos\n",
    "                    if Q_Bid < M_Bid:\n",
    "                        NetPos += 0\n",
    "                        CashPos -= 0\n",
    "                        PnL = NetPos*M_Bid + CashPos\n",
    "\n",
    "            if data.loc[i, 'Side'] == 'B':\n",
    "                O_Time = data.loc[i, 'DateTime']\n",
    "\n",
    "                if Q_Time_Last <= O_Time < Q_Time:\n",
    "                    if Q_Ask_Last < M_Ask:\n",
    "                        if random.random() <= q: \n",
    "                            NetPos -= 2\n",
    "                            CashPos += 2*Q_Ask_Last\n",
    "                        else: \n",
    "                            NetPos -= 1\n",
    "                            CashPos += Q_Ask_Last\n",
    "                        PnL = NetPos*M_Ask + CashPos\n",
    "                    if Q_Ask_Last == M_Ask:\n",
    "                        if random.random() <= p:\n",
    "                            NetPos -= 1\n",
    "                            CashPos += Q_Ask_Last\n",
    "                            PnL = NetPos*M_Ask + CashPos\n",
    "                        else:\n",
    "                            NetPos -= 0\n",
    "                            CashPos += 0\n",
    "                            PnL = NetPos*M_Ask + CashPos\n",
    "                    if Q_Ask_Last > M_Ask:\n",
    "                        NetPos -= 0\n",
    "                        CashPos += 0\n",
    "                        PnL = NetPos*M_Ask + CashPos\n",
    "\n",
    "                if O_Time >= Q_Time:\n",
    "                    if Q_Ask < M_Ask:\n",
    "                        if random.random() <= q: \n",
    "                            NetPos -= 2\n",
    "                            CashPos += 2*Q_Ask\n",
    "                        else: \n",
    "                            NetPos -= 1\n",
    "                            CashPos += Q_Ask\n",
    "                        PnL =  NetPos*M_Ask + CashPos\n",
    "                    if Q_Ask == M_Ask:\n",
    "                        if random.random() <= p:\n",
    "                            NetPos -= 1\n",
    "                            CashPos += Q_Ask\n",
    "                            PnL = NetPos*M_Ask + CashPos\n",
    "                        else:\n",
    "                            NetPos -= 0\n",
    "                            CashPos += 0\n",
    "                            PnL = NetPos*M_Ask + CashPos\n",
    "                    if Q_Ask > M_Ask:\n",
    "                        NetPos -= 0\n",
    "                        CashPos += 0\n",
    "                        PnL = NetPos*M_Ask + CashPos\n",
    "\n",
    "            data.loc[i, 'PnL'] = PnL\n",
    "            data.loc[i, 'Net Position'] = NetPos\n",
    "\n",
    "        if -K/2 < NetPos < K/2:\n",
    "            flag = 2\n",
    "        elif (-K < NetPos <= -K/2) or (K/2 <= NetPos < K):\n",
    "            flag = 0\n",
    "        elif NetPos <= -K:\n",
    "            flag = -1\n",
    "        elif NetPos >= K:\n",
    "            flag = 1\n"
   ]
  },
  {
   "cell_type": "code",
   "execution_count": 192,
   "metadata": {},
   "outputs": [
    {
     "data": {
      "text/html": [
       "<div>\n",
       "<style scoped>\n",
       "    .dataframe tbody tr th:only-of-type {\n",
       "        vertical-align: middle;\n",
       "    }\n",
       "\n",
       "    .dataframe tbody tr th {\n",
       "        vertical-align: top;\n",
       "    }\n",
       "\n",
       "    .dataframe thead th {\n",
       "        text-align: right;\n",
       "    }\n",
       "</style>\n",
       "<table border=\"1\" class=\"dataframe\">\n",
       "  <thead>\n",
       "    <tr style=\"text-align: right;\">\n",
       "      <th></th>\n",
       "      <th>DateTime</th>\n",
       "      <th>Bid</th>\n",
       "      <th>Ask</th>\n",
       "      <th>Side</th>\n",
       "      <th>PnL</th>\n",
       "      <th>Net Position</th>\n",
       "      <th>Quote Bid</th>\n",
       "      <th>Quote Ask</th>\n",
       "    </tr>\n",
       "  </thead>\n",
       "  <tbody>\n",
       "    <tr>\n",
       "      <th>0</th>\n",
       "      <td>2018-01-07 22:02:03.832</td>\n",
       "      <td>1.3556</td>\n",
       "      <td>1.35616</td>\n",
       "      <td>T</td>\n",
       "      <td>0</td>\n",
       "      <td>0</td>\n",
       "      <td>0</td>\n",
       "      <td>0</td>\n",
       "    </tr>\n",
       "    <tr>\n",
       "      <th>1</th>\n",
       "      <td>2018-01-07 22:02:03.845</td>\n",
       "      <td>1.3556</td>\n",
       "      <td>1.35617</td>\n",
       "      <td>T</td>\n",
       "      <td>0</td>\n",
       "      <td>0</td>\n",
       "      <td>0</td>\n",
       "      <td>0</td>\n",
       "    </tr>\n",
       "    <tr>\n",
       "      <th>2</th>\n",
       "      <td>2018-01-07 22:02:03.851</td>\n",
       "      <td>1.35554</td>\n",
       "      <td>1.35617</td>\n",
       "      <td>T</td>\n",
       "      <td>0</td>\n",
       "      <td>0</td>\n",
       "      <td>0</td>\n",
       "      <td>0</td>\n",
       "    </tr>\n",
       "    <tr>\n",
       "      <th>3</th>\n",
       "      <td>2018-01-07 22:02:03.859</td>\n",
       "      <td>1.35554</td>\n",
       "      <td>1.35618</td>\n",
       "      <td>T</td>\n",
       "      <td>0</td>\n",
       "      <td>0</td>\n",
       "      <td>0</td>\n",
       "      <td>0</td>\n",
       "    </tr>\n",
       "    <tr>\n",
       "      <th>4</th>\n",
       "      <td>2018-01-07 22:02:04.114</td>\n",
       "      <td>1.35554</td>\n",
       "      <td>1.35619</td>\n",
       "      <td>T</td>\n",
       "      <td>0</td>\n",
       "      <td>0</td>\n",
       "      <td>0</td>\n",
       "      <td>0</td>\n",
       "    </tr>\n",
       "  </tbody>\n",
       "</table>\n",
       "</div>"
      ],
      "text/plain": [
       "                 DateTime      Bid      Ask Side  PnL  Net Position  \\\n",
       "0 2018-01-07 22:02:03.832   1.3556  1.35616    T    0             0   \n",
       "1 2018-01-07 22:02:03.845   1.3556  1.35617    T    0             0   \n",
       "2 2018-01-07 22:02:03.851  1.35554  1.35617    T    0             0   \n",
       "3 2018-01-07 22:02:03.859  1.35554  1.35618    T    0             0   \n",
       "4 2018-01-07 22:02:04.114  1.35554  1.35619    T    0             0   \n",
       "\n",
       "   Quote Bid  Quote Ask  \n",
       "0          0          0  \n",
       "1          0          0  \n",
       "2          0          0  \n",
       "3          0          0  \n",
       "4          0          0  "
      ]
     },
     "execution_count": 192,
     "metadata": {},
     "output_type": "execute_result"
    }
   ],
   "source": [
    "raw.head()"
   ]
  },
  {
   "cell_type": "code",
   "execution_count": 193,
   "metadata": {
    "scrolled": true
   },
   "outputs": [],
   "source": [
    "t_delta = dt.timedelta(seconds=10)\n",
    "\n",
    "START = order.groupby([order['DateTime'].dt.date]).min()\n",
    "END = order.groupby([order['DateTime'].dt.date]).max()"
   ]
  },
  {
   "cell_type": "code",
   "execution_count": 194,
   "metadata": {},
   "outputs": [],
   "source": [
    "for i in range(4):\n",
    "    start = START.iloc[i, 0]\n",
    "    end = END.iloc[i, 0]\n",
    "    \n",
    "    start -= t_delta\n",
    "    end += t_delta"
   ]
  },
  {
   "cell_type": "code",
   "execution_count": 195,
   "metadata": {},
   "outputs": [
    {
     "data": {
      "text/plain": [
       "Timestamp('2018-01-12 08:43:35')"
      ]
     },
     "execution_count": 195,
     "metadata": {},
     "output_type": "execute_result"
    }
   ],
   "source": [
    "start"
   ]
  },
  {
   "cell_type": "code",
   "execution_count": 196,
   "metadata": {},
   "outputs": [
    {
     "data": {
      "text/plain": [
       "Timestamp('2018-01-12 08:45:17')"
      ]
     },
     "execution_count": 196,
     "metadata": {},
     "output_type": "execute_result"
    }
   ],
   "source": [
    "end"
   ]
  },
  {
   "cell_type": "code",
   "execution_count": 197,
   "metadata": {
    "scrolled": true
   },
   "outputs": [],
   "source": [
    "data = raw[(start <= raw['DateTime']) & (raw['DateTime'] <= end)]\n",
    "data.reset_index(drop=True, inplace=True)"
   ]
  },
  {
   "cell_type": "code",
   "execution_count": 198,
   "metadata": {
    "scrolled": true
   },
   "outputs": [
    {
     "data": {
      "text/html": [
       "<div>\n",
       "<style scoped>\n",
       "    .dataframe tbody tr th:only-of-type {\n",
       "        vertical-align: middle;\n",
       "    }\n",
       "\n",
       "    .dataframe tbody tr th {\n",
       "        vertical-align: top;\n",
       "    }\n",
       "\n",
       "    .dataframe thead th {\n",
       "        text-align: right;\n",
       "    }\n",
       "</style>\n",
       "<table border=\"1\" class=\"dataframe\">\n",
       "  <thead>\n",
       "    <tr style=\"text-align: right;\">\n",
       "      <th></th>\n",
       "      <th>DateTime</th>\n",
       "      <th>Bid</th>\n",
       "      <th>Ask</th>\n",
       "      <th>Side</th>\n",
       "      <th>PnL</th>\n",
       "      <th>Net Position</th>\n",
       "      <th>Quote Bid</th>\n",
       "      <th>Quote Ask</th>\n",
       "    </tr>\n",
       "  </thead>\n",
       "  <tbody>\n",
       "    <tr>\n",
       "      <th>0</th>\n",
       "      <td>2018-01-12 08:43:35.068</td>\n",
       "      <td>1.35747</td>\n",
       "      <td>1.35751</td>\n",
       "      <td>T</td>\n",
       "      <td>0</td>\n",
       "      <td>0</td>\n",
       "      <td>0</td>\n",
       "      <td>0</td>\n",
       "    </tr>\n",
       "    <tr>\n",
       "      <th>1</th>\n",
       "      <td>2018-01-12 08:43:35.206</td>\n",
       "      <td>1.35747</td>\n",
       "      <td>1.35752</td>\n",
       "      <td>T</td>\n",
       "      <td>0</td>\n",
       "      <td>0</td>\n",
       "      <td>0</td>\n",
       "      <td>0</td>\n",
       "    </tr>\n",
       "    <tr>\n",
       "      <th>2</th>\n",
       "      <td>2018-01-12 08:43:35.333</td>\n",
       "      <td>1.35747</td>\n",
       "      <td>1.35751</td>\n",
       "      <td>T</td>\n",
       "      <td>0</td>\n",
       "      <td>0</td>\n",
       "      <td>0</td>\n",
       "      <td>0</td>\n",
       "    </tr>\n",
       "    <tr>\n",
       "      <th>3</th>\n",
       "      <td>2018-01-12 08:43:35.366</td>\n",
       "      <td>1.35747</td>\n",
       "      <td>1.35752</td>\n",
       "      <td>T</td>\n",
       "      <td>0</td>\n",
       "      <td>0</td>\n",
       "      <td>0</td>\n",
       "      <td>0</td>\n",
       "    </tr>\n",
       "    <tr>\n",
       "      <th>4</th>\n",
       "      <td>2018-01-12 08:43:35.370</td>\n",
       "      <td>1.35746</td>\n",
       "      <td>1.35752</td>\n",
       "      <td>T</td>\n",
       "      <td>0</td>\n",
       "      <td>0</td>\n",
       "      <td>0</td>\n",
       "      <td>0</td>\n",
       "    </tr>\n",
       "  </tbody>\n",
       "</table>\n",
       "</div>"
      ],
      "text/plain": [
       "                 DateTime      Bid      Ask Side  PnL  Net Position  \\\n",
       "0 2018-01-12 08:43:35.068  1.35747  1.35751    T    0             0   \n",
       "1 2018-01-12 08:43:35.206  1.35747  1.35752    T    0             0   \n",
       "2 2018-01-12 08:43:35.333  1.35747  1.35751    T    0             0   \n",
       "3 2018-01-12 08:43:35.366  1.35747  1.35752    T    0             0   \n",
       "4 2018-01-12 08:43:35.370  1.35746  1.35752    T    0             0   \n",
       "\n",
       "   Quote Bid  Quote Ask  \n",
       "0          0          0  \n",
       "1          0          0  \n",
       "2          0          0  \n",
       "3          0          0  \n",
       "4          0          0  "
      ]
     },
     "execution_count": 198,
     "metadata": {},
     "output_type": "execute_result"
    }
   ],
   "source": [
    "data.head()"
   ]
  },
  {
   "cell_type": "code",
   "execution_count": 199,
   "metadata": {},
   "outputs": [
    {
     "data": {
      "text/plain": [
       "(1337, 8)"
      ]
     },
     "execution_count": 199,
     "metadata": {},
     "output_type": "execute_result"
    }
   ],
   "source": [
    "data.shape"
   ]
  },
  {
   "cell_type": "code",
   "execution_count": 200,
   "metadata": {},
   "outputs": [
    {
     "name": "stderr",
     "output_type": "stream",
     "text": [
      "/anaconda3/lib/python3.6/site-packages/pandas/core/indexing.py:543: SettingWithCopyWarning: \n",
      "A value is trying to be set on a copy of a slice from a DataFrame.\n",
      "Try using .loc[row_indexer,col_indexer] = value instead\n",
      "\n",
      "See the caveats in the documentation: http://pandas.pydata.org/pandas-docs/stable/indexing.html#indexing-view-versus-copy\n",
      "  self.obj[item] = s\n"
     ]
    },
    {
     "ename": "KeyboardInterrupt",
     "evalue": "",
     "output_type": "error",
     "traceback": [
      "\u001b[0;31m---------------------------------------------------------------------------\u001b[0m",
      "\u001b[0;31mKeyboardInterrupt\u001b[0m                         Traceback (most recent call last)",
      "\u001b[0;32m<ipython-input-200-c71347e37fe1>\u001b[0m in \u001b[0;36m<module>\u001b[0;34m()\u001b[0m\n\u001b[0;32m----> 1\u001b[0;31m \u001b[0mMarketMaking\u001b[0m\u001b[0;34m(\u001b[0m\u001b[0mdata\u001b[0m\u001b[0;34m)\u001b[0m\u001b[0;34m\u001b[0m\u001b[0;34m\u001b[0m\u001b[0m\n\u001b[0m",
      "\u001b[0;32m<ipython-input-191-7650b16ff980>\u001b[0m in \u001b[0;36mMarketMaking\u001b[0;34m(data)\u001b[0m\n\u001b[1;32m     47\u001b[0m \u001b[0;34m\u001b[0m\u001b[0m\n\u001b[1;32m     48\u001b[0m             \u001b[0;32mif\u001b[0m \u001b[0mNetPos\u001b[0m \u001b[0;34m<=\u001b[0m \u001b[0;36m0\u001b[0m\u001b[0;34m:\u001b[0m\u001b[0;34m\u001b[0m\u001b[0;34m\u001b[0m\u001b[0m\n\u001b[0;32m---> 49\u001b[0;31m                 \u001b[0mdata\u001b[0m\u001b[0;34m.\u001b[0m\u001b[0mloc\u001b[0m\u001b[0;34m[\u001b[0m\u001b[0mi\u001b[0m\u001b[0;34m,\u001b[0m \u001b[0;34m'PnL'\u001b[0m\u001b[0;34m]\u001b[0m \u001b[0;34m=\u001b[0m \u001b[0mNetPos\u001b[0m\u001b[0;34m*\u001b[0m\u001b[0mM_Ask\u001b[0m \u001b[0;34m+\u001b[0m \u001b[0mCashPos\u001b[0m\u001b[0;34m\u001b[0m\u001b[0;34m\u001b[0m\u001b[0m\n\u001b[0m\u001b[1;32m     50\u001b[0m             \u001b[0;32melse\u001b[0m\u001b[0;34m:\u001b[0m\u001b[0;34m\u001b[0m\u001b[0;34m\u001b[0m\u001b[0m\n\u001b[1;32m     51\u001b[0m                 \u001b[0mdata\u001b[0m\u001b[0;34m.\u001b[0m\u001b[0mloc\u001b[0m\u001b[0;34m[\u001b[0m\u001b[0mi\u001b[0m\u001b[0;34m,\u001b[0m \u001b[0;34m'PnL'\u001b[0m\u001b[0;34m]\u001b[0m \u001b[0;34m=\u001b[0m \u001b[0mNetPos\u001b[0m\u001b[0;34m*\u001b[0m\u001b[0mM_Bid\u001b[0m \u001b[0;34m+\u001b[0m \u001b[0mCashPos\u001b[0m\u001b[0;34m\u001b[0m\u001b[0;34m\u001b[0m\u001b[0m\n",
      "\u001b[0;32m/anaconda3/lib/python3.6/site-packages/pandas/core/indexing.py\u001b[0m in \u001b[0;36m__setitem__\u001b[0;34m(self, key, value)\u001b[0m\n\u001b[1;32m    187\u001b[0m             \u001b[0mkey\u001b[0m \u001b[0;34m=\u001b[0m \u001b[0mcom\u001b[0m\u001b[0;34m.\u001b[0m\u001b[0m_apply_if_callable\u001b[0m\u001b[0;34m(\u001b[0m\u001b[0mkey\u001b[0m\u001b[0;34m,\u001b[0m \u001b[0mself\u001b[0m\u001b[0;34m.\u001b[0m\u001b[0mobj\u001b[0m\u001b[0;34m)\u001b[0m\u001b[0;34m\u001b[0m\u001b[0;34m\u001b[0m\u001b[0m\n\u001b[1;32m    188\u001b[0m         \u001b[0mindexer\u001b[0m \u001b[0;34m=\u001b[0m \u001b[0mself\u001b[0m\u001b[0;34m.\u001b[0m\u001b[0m_get_setitem_indexer\u001b[0m\u001b[0;34m(\u001b[0m\u001b[0mkey\u001b[0m\u001b[0;34m)\u001b[0m\u001b[0;34m\u001b[0m\u001b[0;34m\u001b[0m\u001b[0m\n\u001b[0;32m--> 189\u001b[0;31m         \u001b[0mself\u001b[0m\u001b[0;34m.\u001b[0m\u001b[0m_setitem_with_indexer\u001b[0m\u001b[0;34m(\u001b[0m\u001b[0mindexer\u001b[0m\u001b[0;34m,\u001b[0m \u001b[0mvalue\u001b[0m\u001b[0;34m)\u001b[0m\u001b[0;34m\u001b[0m\u001b[0;34m\u001b[0m\u001b[0m\n\u001b[0m\u001b[1;32m    190\u001b[0m \u001b[0;34m\u001b[0m\u001b[0m\n\u001b[1;32m    191\u001b[0m     \u001b[0;32mdef\u001b[0m \u001b[0m_validate_key\u001b[0m\u001b[0;34m(\u001b[0m\u001b[0mself\u001b[0m\u001b[0;34m,\u001b[0m \u001b[0mkey\u001b[0m\u001b[0;34m,\u001b[0m \u001b[0maxis\u001b[0m\u001b[0;34m)\u001b[0m\u001b[0;34m:\u001b[0m\u001b[0;34m\u001b[0m\u001b[0;34m\u001b[0m\u001b[0m\n",
      "\u001b[0;32m/anaconda3/lib/python3.6/site-packages/pandas/core/indexing.py\u001b[0m in \u001b[0;36m_setitem_with_indexer\u001b[0;34m(self, indexer, value)\u001b[0m\n\u001b[1;32m    613\u001b[0m                 \u001b[0;31m# scalar\u001b[0m\u001b[0;34m\u001b[0m\u001b[0;34m\u001b[0m\u001b[0;34m\u001b[0m\u001b[0m\n\u001b[1;32m    614\u001b[0m                 \u001b[0;32mfor\u001b[0m \u001b[0mitem\u001b[0m \u001b[0;32min\u001b[0m \u001b[0mlabels\u001b[0m\u001b[0;34m:\u001b[0m\u001b[0;34m\u001b[0m\u001b[0;34m\u001b[0m\u001b[0m\n\u001b[0;32m--> 615\u001b[0;31m                     \u001b[0msetter\u001b[0m\u001b[0;34m(\u001b[0m\u001b[0mitem\u001b[0m\u001b[0;34m,\u001b[0m \u001b[0mvalue\u001b[0m\u001b[0;34m)\u001b[0m\u001b[0;34m\u001b[0m\u001b[0;34m\u001b[0m\u001b[0m\n\u001b[0m\u001b[1;32m    616\u001b[0m \u001b[0;34m\u001b[0m\u001b[0m\n\u001b[1;32m    617\u001b[0m         \u001b[0;32melse\u001b[0m\u001b[0;34m:\u001b[0m\u001b[0;34m\u001b[0m\u001b[0;34m\u001b[0m\u001b[0m\n",
      "\u001b[0;32m/anaconda3/lib/python3.6/site-packages/pandas/core/indexing.py\u001b[0m in \u001b[0;36msetter\u001b[0;34m(item, v)\u001b[0m\n\u001b[1;32m    541\u001b[0m \u001b[0;34m\u001b[0m\u001b[0m\n\u001b[1;32m    542\u001b[0m                 \u001b[0;31m# reset the sliced object if unique\u001b[0m\u001b[0;34m\u001b[0m\u001b[0;34m\u001b[0m\u001b[0;34m\u001b[0m\u001b[0m\n\u001b[0;32m--> 543\u001b[0;31m                 \u001b[0mself\u001b[0m\u001b[0;34m.\u001b[0m\u001b[0mobj\u001b[0m\u001b[0;34m[\u001b[0m\u001b[0mitem\u001b[0m\u001b[0;34m]\u001b[0m \u001b[0;34m=\u001b[0m \u001b[0ms\u001b[0m\u001b[0;34m\u001b[0m\u001b[0;34m\u001b[0m\u001b[0m\n\u001b[0m\u001b[1;32m    544\u001b[0m \u001b[0;34m\u001b[0m\u001b[0m\n\u001b[1;32m    545\u001b[0m             \u001b[0;32mdef\u001b[0m \u001b[0mcan_do_equal_len\u001b[0m\u001b[0;34m(\u001b[0m\u001b[0;34m)\u001b[0m\u001b[0;34m:\u001b[0m\u001b[0;34m\u001b[0m\u001b[0;34m\u001b[0m\u001b[0m\n",
      "\u001b[0;32m/anaconda3/lib/python3.6/site-packages/pandas/core/frame.py\u001b[0m in \u001b[0;36m__setitem__\u001b[0;34m(self, key, value)\u001b[0m\n\u001b[1;32m   3114\u001b[0m         \u001b[0;32melse\u001b[0m\u001b[0;34m:\u001b[0m\u001b[0;34m\u001b[0m\u001b[0;34m\u001b[0m\u001b[0m\n\u001b[1;32m   3115\u001b[0m             \u001b[0;31m# set column\u001b[0m\u001b[0;34m\u001b[0m\u001b[0;34m\u001b[0m\u001b[0;34m\u001b[0m\u001b[0m\n\u001b[0;32m-> 3116\u001b[0;31m             \u001b[0mself\u001b[0m\u001b[0;34m.\u001b[0m\u001b[0m_set_item\u001b[0m\u001b[0;34m(\u001b[0m\u001b[0mkey\u001b[0m\u001b[0;34m,\u001b[0m \u001b[0mvalue\u001b[0m\u001b[0;34m)\u001b[0m\u001b[0;34m\u001b[0m\u001b[0;34m\u001b[0m\u001b[0m\n\u001b[0m\u001b[1;32m   3117\u001b[0m \u001b[0;34m\u001b[0m\u001b[0m\n\u001b[1;32m   3118\u001b[0m     \u001b[0;32mdef\u001b[0m \u001b[0m_setitem_slice\u001b[0m\u001b[0;34m(\u001b[0m\u001b[0mself\u001b[0m\u001b[0;34m,\u001b[0m \u001b[0mkey\u001b[0m\u001b[0;34m,\u001b[0m \u001b[0mvalue\u001b[0m\u001b[0;34m)\u001b[0m\u001b[0;34m:\u001b[0m\u001b[0;34m\u001b[0m\u001b[0;34m\u001b[0m\u001b[0m\n",
      "\u001b[0;32m/anaconda3/lib/python3.6/site-packages/pandas/core/frame.py\u001b[0m in \u001b[0;36m_set_item\u001b[0;34m(self, key, value)\u001b[0m\n\u001b[1;32m   3196\u001b[0m         \u001b[0;31m# value exception to occur first\u001b[0m\u001b[0;34m\u001b[0m\u001b[0;34m\u001b[0m\u001b[0;34m\u001b[0m\u001b[0m\n\u001b[1;32m   3197\u001b[0m         \u001b[0;32mif\u001b[0m \u001b[0mlen\u001b[0m\u001b[0;34m(\u001b[0m\u001b[0mself\u001b[0m\u001b[0;34m)\u001b[0m\u001b[0;34m:\u001b[0m\u001b[0;34m\u001b[0m\u001b[0;34m\u001b[0m\u001b[0m\n\u001b[0;32m-> 3198\u001b[0;31m             \u001b[0mself\u001b[0m\u001b[0;34m.\u001b[0m\u001b[0m_check_setitem_copy\u001b[0m\u001b[0;34m(\u001b[0m\u001b[0;34m)\u001b[0m\u001b[0;34m\u001b[0m\u001b[0;34m\u001b[0m\u001b[0m\n\u001b[0m\u001b[1;32m   3199\u001b[0m \u001b[0;34m\u001b[0m\u001b[0m\n\u001b[1;32m   3200\u001b[0m     \u001b[0;32mdef\u001b[0m \u001b[0minsert\u001b[0m\u001b[0;34m(\u001b[0m\u001b[0mself\u001b[0m\u001b[0;34m,\u001b[0m \u001b[0mloc\u001b[0m\u001b[0;34m,\u001b[0m \u001b[0mcolumn\u001b[0m\u001b[0;34m,\u001b[0m \u001b[0mvalue\u001b[0m\u001b[0;34m,\u001b[0m \u001b[0mallow_duplicates\u001b[0m\u001b[0;34m=\u001b[0m\u001b[0;32mFalse\u001b[0m\u001b[0;34m)\u001b[0m\u001b[0;34m:\u001b[0m\u001b[0;34m\u001b[0m\u001b[0;34m\u001b[0m\u001b[0m\n",
      "\u001b[0;32m/anaconda3/lib/python3.6/site-packages/pandas/core/generic.py\u001b[0m in \u001b[0;36m_check_setitem_copy\u001b[0;34m(self, stacklevel, t, force)\u001b[0m\n\u001b[1;32m   2668\u001b[0m             \u001b[0;31m# the copy weakref\u001b[0m\u001b[0;34m\u001b[0m\u001b[0;34m\u001b[0m\u001b[0;34m\u001b[0m\u001b[0m\n\u001b[1;32m   2669\u001b[0m             \u001b[0;32mtry\u001b[0m\u001b[0;34m:\u001b[0m\u001b[0;34m\u001b[0m\u001b[0;34m\u001b[0m\u001b[0m\n\u001b[0;32m-> 2670\u001b[0;31m                 \u001b[0mgc\u001b[0m\u001b[0;34m.\u001b[0m\u001b[0mcollect\u001b[0m\u001b[0;34m(\u001b[0m\u001b[0;36m2\u001b[0m\u001b[0;34m)\u001b[0m\u001b[0;34m\u001b[0m\u001b[0;34m\u001b[0m\u001b[0m\n\u001b[0m\u001b[1;32m   2671\u001b[0m                 \u001b[0;32mif\u001b[0m \u001b[0;32mnot\u001b[0m \u001b[0mgc\u001b[0m\u001b[0;34m.\u001b[0m\u001b[0mget_referents\u001b[0m\u001b[0;34m(\u001b[0m\u001b[0mself\u001b[0m\u001b[0;34m.\u001b[0m\u001b[0m_is_copy\u001b[0m\u001b[0;34m(\u001b[0m\u001b[0;34m)\u001b[0m\u001b[0;34m)\u001b[0m\u001b[0;34m:\u001b[0m\u001b[0;34m\u001b[0m\u001b[0;34m\u001b[0m\u001b[0m\n\u001b[1;32m   2672\u001b[0m                     \u001b[0mself\u001b[0m\u001b[0;34m.\u001b[0m\u001b[0m_is_copy\u001b[0m \u001b[0;34m=\u001b[0m \u001b[0;32mNone\u001b[0m\u001b[0;34m\u001b[0m\u001b[0;34m\u001b[0m\u001b[0m\n",
      "\u001b[0;31mKeyboardInterrupt\u001b[0m: "
     ]
    }
   ],
   "source": [
    "MarketMaking(data)"
   ]
  },
  {
   "cell_type": "code",
   "execution_count": null,
   "metadata": {},
   "outputs": [],
   "source": [
    "data['PnL'].plot()"
   ]
  },
  {
   "cell_type": "code",
   "execution_count": null,
   "metadata": {},
   "outputs": [],
   "source": []
  }
 ],
 "metadata": {
  "kernelspec": {
   "display_name": "Python 3",
   "language": "python",
   "name": "python3"
  },
  "language_info": {
   "codemirror_mode": {
    "name": "ipython",
    "version": 3
   },
   "file_extension": ".py",
   "mimetype": "text/x-python",
   "name": "python",
   "nbconvert_exporter": "python",
   "pygments_lexer": "ipython3",
   "version": "3.6.8"
  },
  "toc": {
   "base_numbering": 1,
   "nav_menu": {},
   "number_sections": true,
   "sideBar": true,
   "skip_h1_title": false,
   "title_cell": "Table of Contents",
   "title_sidebar": "Contents",
   "toc_cell": false,
   "toc_position": {},
   "toc_section_display": true,
   "toc_window_display": false
  }
 },
 "nbformat": 4,
 "nbformat_minor": 2
}
