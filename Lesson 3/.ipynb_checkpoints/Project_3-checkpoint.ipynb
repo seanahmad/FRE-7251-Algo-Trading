{
 "cells": [
  {
   "cell_type": "code",
   "execution_count": 622,
   "metadata": {},
   "outputs": [],
   "source": [
    "import os\n",
    "import pandas as pd\n",
    "import numpy as np\n",
    "import matplotlib.pyplot as plt"
   ]
  },
  {
   "cell_type": "code",
   "execution_count": 623,
   "metadata": {},
   "outputs": [],
   "source": [
    "TICK_DATA = os.path.join(os.getcwd(), '2.csv')\n",
    "ORDER_DATA = os.path.join(os.getcwd(), 'Assignment#3_Orders.xlsx')\n",
    "\n",
    "tick = pd.read_csv(TICK_DATA, encoding='utf-16-le')\n",
    "order = pd.read_excel(ORDER_DATA, header=3, usecols=[27,28,29,30,31,32,33])"
   ]
  },
  {
   "cell_type": "code",
   "execution_count": 624,
   "metadata": {},
   "outputs": [],
   "source": [
    "tick['DateTime'] = pd.to_datetime(tick['DateTime'], format=\"%m/%d/%Y %H:%M:%S.%f\")\n",
    "order['DateTime'] = pd.to_datetime(order['datetime'], format=\"%Y-%m-%d %H:%M:S.%f\")"
   ]
  },
  {
   "cell_type": "code",
   "execution_count": 625,
   "metadata": {},
   "outputs": [],
   "source": [
    "order = order.drop(['datetime'], axis=1).set_index('DateTime')\n",
    "tick = tick.set_index('DateTime')"
   ]
  },
  {
   "cell_type": "code",
   "execution_count": 626,
   "metadata": {
    "scrolled": false
   },
   "outputs": [
    {
     "data": {
      "text/html": [
       "<div>\n",
       "<style scoped>\n",
       "    .dataframe tbody tr th:only-of-type {\n",
       "        vertical-align: middle;\n",
       "    }\n",
       "\n",
       "    .dataframe tbody tr th {\n",
       "        vertical-align: top;\n",
       "    }\n",
       "\n",
       "    .dataframe thead th {\n",
       "        text-align: right;\n",
       "    }\n",
       "</style>\n",
       "<table border=\"1\" class=\"dataframe\">\n",
       "  <thead>\n",
       "    <tr style=\"text-align: right;\">\n",
       "      <th></th>\n",
       "      <th>trade_id</th>\n",
       "      <th>buy/sell</th>\n",
       "      <th>notional</th>\n",
       "      <th>price</th>\n",
       "      <th>instrument</th>\n",
       "      <th>alpha</th>\n",
       "    </tr>\n",
       "    <tr>\n",
       "      <th>DateTime</th>\n",
       "      <th></th>\n",
       "      <th></th>\n",
       "      <th></th>\n",
       "      <th></th>\n",
       "      <th></th>\n",
       "      <th></th>\n",
       "    </tr>\n",
       "  </thead>\n",
       "  <tbody>\n",
       "    <tr>\n",
       "      <th>2018-01-07 19:07:49</th>\n",
       "      <td>107414</td>\n",
       "      <td>1</td>\n",
       "      <td>150000</td>\n",
       "      <td>1.35724</td>\n",
       "      <td>GBP/USD</td>\n",
       "      <td>SOM</td>\n",
       "    </tr>\n",
       "    <tr>\n",
       "      <th>2018-01-07 19:15:23</th>\n",
       "      <td>107427</td>\n",
       "      <td>1</td>\n",
       "      <td>310000</td>\n",
       "      <td>1.35725</td>\n",
       "      <td>GBP/USD</td>\n",
       "      <td>SOM</td>\n",
       "    </tr>\n",
       "    <tr>\n",
       "      <th>2018-01-08 07:38:48</th>\n",
       "      <td>107638</td>\n",
       "      <td>-1</td>\n",
       "      <td>310000</td>\n",
       "      <td>1.35453</td>\n",
       "      <td>GBP/USD</td>\n",
       "      <td>SOM</td>\n",
       "    </tr>\n",
       "    <tr>\n",
       "      <th>2018-01-08 08:10:55</th>\n",
       "      <td>107649</td>\n",
       "      <td>-1</td>\n",
       "      <td>310000</td>\n",
       "      <td>1.35371</td>\n",
       "      <td>GBP/USD</td>\n",
       "      <td>SOM</td>\n",
       "    </tr>\n",
       "    <tr>\n",
       "      <th>2018-01-08 08:19:10</th>\n",
       "      <td>107654</td>\n",
       "      <td>-1</td>\n",
       "      <td>320000</td>\n",
       "      <td>1.35394</td>\n",
       "      <td>GBP/USD</td>\n",
       "      <td>SOM</td>\n",
       "    </tr>\n",
       "  </tbody>\n",
       "</table>\n",
       "</div>"
      ],
      "text/plain": [
       "                     trade_id  buy/sell  notional    price instrument alpha\n",
       "DateTime                                                                   \n",
       "2018-01-07 19:07:49    107414         1    150000  1.35724    GBP/USD   SOM\n",
       "2018-01-07 19:15:23    107427         1    310000  1.35725    GBP/USD   SOM\n",
       "2018-01-08 07:38:48    107638        -1    310000  1.35453    GBP/USD   SOM\n",
       "2018-01-08 08:10:55    107649        -1    310000  1.35371    GBP/USD   SOM\n",
       "2018-01-08 08:19:10    107654        -1    320000  1.35394    GBP/USD   SOM"
      ]
     },
     "execution_count": 626,
     "metadata": {},
     "output_type": "execute_result"
    }
   ],
   "source": [
    "order.head()"
   ]
  },
  {
   "cell_type": "code",
   "execution_count": 627,
   "metadata": {
    "scrolled": true
   },
   "outputs": [
    {
     "data": {
      "text/html": [
       "<div>\n",
       "<style scoped>\n",
       "    .dataframe tbody tr th:only-of-type {\n",
       "        vertical-align: middle;\n",
       "    }\n",
       "\n",
       "    .dataframe tbody tr th {\n",
       "        vertical-align: top;\n",
       "    }\n",
       "\n",
       "    .dataframe thead th {\n",
       "        text-align: right;\n",
       "    }\n",
       "</style>\n",
       "<table border=\"1\" class=\"dataframe\">\n",
       "  <thead>\n",
       "    <tr style=\"text-align: right;\">\n",
       "      <th></th>\n",
       "      <th>Bid</th>\n",
       "      <th>Ask</th>\n",
       "    </tr>\n",
       "    <tr>\n",
       "      <th>DateTime</th>\n",
       "      <th></th>\n",
       "      <th></th>\n",
       "    </tr>\n",
       "  </thead>\n",
       "  <tbody>\n",
       "    <tr>\n",
       "      <th>2018-01-07 22:02:03.832</th>\n",
       "      <td>1.35560</td>\n",
       "      <td>1.35616</td>\n",
       "    </tr>\n",
       "    <tr>\n",
       "      <th>2018-01-07 22:02:03.845</th>\n",
       "      <td>1.35560</td>\n",
       "      <td>1.35617</td>\n",
       "    </tr>\n",
       "    <tr>\n",
       "      <th>2018-01-07 22:02:03.851</th>\n",
       "      <td>1.35554</td>\n",
       "      <td>1.35617</td>\n",
       "    </tr>\n",
       "    <tr>\n",
       "      <th>2018-01-07 22:02:03.859</th>\n",
       "      <td>1.35554</td>\n",
       "      <td>1.35618</td>\n",
       "    </tr>\n",
       "    <tr>\n",
       "      <th>2018-01-07 22:02:04.114</th>\n",
       "      <td>1.35554</td>\n",
       "      <td>1.35619</td>\n",
       "    </tr>\n",
       "  </tbody>\n",
       "</table>\n",
       "</div>"
      ],
      "text/plain": [
       "                             Bid      Ask\n",
       "DateTime                                 \n",
       "2018-01-07 22:02:03.832  1.35560  1.35616\n",
       "2018-01-07 22:02:03.845  1.35560  1.35617\n",
       "2018-01-07 22:02:03.851  1.35554  1.35617\n",
       "2018-01-07 22:02:03.859  1.35554  1.35618\n",
       "2018-01-07 22:02:04.114  1.35554  1.35619"
      ]
     },
     "execution_count": 627,
     "metadata": {},
     "output_type": "execute_result"
    }
   ],
   "source": [
    "tick.head() "
   ]
  },
  {
   "cell_type": "code",
   "execution_count": 731,
   "metadata": {},
   "outputs": [
    {
     "data": {
      "text/plain": [
       "1.355885"
      ]
     },
     "execution_count": 731,
     "metadata": {},
     "output_type": "execute_result"
    }
   ],
   "source": [
    "mm = (tick.iloc[1,0]+tick.iloc[1,1])/2\n",
    "mm"
   ]
  },
  {
   "cell_type": "code",
   "execution_count": 732,
   "metadata": {},
   "outputs": [
    {
     "data": {
      "text/plain": [
       "1.355915"
      ]
     },
     "execution_count": 732,
     "metadata": {},
     "output_type": "execute_result"
    }
   ],
   "source": [
    "mm + SL"
   ]
  },
  {
   "cell_type": "code",
   "execution_count": 734,
   "metadata": {},
   "outputs": [
    {
     "data": {
      "text/plain": [
       "0.0002750000000000252"
      ]
     },
     "execution_count": 734,
     "metadata": {},
     "output_type": "execute_result"
    }
   ],
   "source": [
    "tick.iloc[0,1] - mm"
   ]
  },
  {
   "cell_type": "code",
   "execution_count": null,
   "metadata": {},
   "outputs": [],
   "source": []
  },
  {
   "cell_type": "markdown",
   "metadata": {},
   "source": [
    "# Market Taking"
   ]
  },
  {
   "cell_type": "code",
   "execution_count": 754,
   "metadata": {},
   "outputs": [],
   "source": [
    "def MT(order, tick):\n",
    "    PnL_df = pd.DataFrame(index=order.index)\n",
    "    \n",
    "    for i in order.index:\n",
    "        nearest_row_num = tick.index.get_loc(i, method='backfill') ## find nearest by DateTime\n",
    "        nearest = tick.iloc[nearest_row_num] ## nearest fulfilled bid/ask price\n",
    "        PnL = (nearest[0] - nearest[1])*1/2\n",
    "        time = tick.index[nearest_row_num] ## time of fulfilled trade\n",
    "        \n",
    "        PnL_df.loc[i, 'MT PnL'] = PnL\n",
    "        PnL_df.loc[i, 'MT Executed Time'] = time\n",
    "        \n",
    "    return PnL_df"
   ]
  },
  {
   "cell_type": "code",
   "execution_count": 630,
   "metadata": {},
   "outputs": [],
   "source": [
    "for i in order.index:\n",
    "    nearest_row_num = tick.index.get_loc(i, method='backfill') ## find nearest by DateTime\n",
    "    nearest = tick.iloc[nearest_row_num] ## nearest fulfilled bid/ask price\n",
    "    PnL = (nearest[0] - nearest[1])*1/2\n",
    "    time = tick.index[nearest_row_num] ## time of fulfilled trade\n",
    "    order.loc[i, 'MT PnL'] = PnL\n",
    "    order.loc[i, 'MT Time'] = time\n"
   ]
  },
  {
   "cell_type": "code",
   "execution_count": 755,
   "metadata": {},
   "outputs": [],
   "source": [
    "MT_PnL = MT(order, tick)"
   ]
  },
  {
   "cell_type": "code",
   "execution_count": 756,
   "metadata": {},
   "outputs": [
    {
     "data": {
      "text/html": [
       "<div>\n",
       "<style scoped>\n",
       "    .dataframe tbody tr th:only-of-type {\n",
       "        vertical-align: middle;\n",
       "    }\n",
       "\n",
       "    .dataframe tbody tr th {\n",
       "        vertical-align: top;\n",
       "    }\n",
       "\n",
       "    .dataframe thead th {\n",
       "        text-align: right;\n",
       "    }\n",
       "</style>\n",
       "<table border=\"1\" class=\"dataframe\">\n",
       "  <thead>\n",
       "    <tr style=\"text-align: right;\">\n",
       "      <th></th>\n",
       "      <th>MT PnL</th>\n",
       "      <th>MT Executed Time</th>\n",
       "    </tr>\n",
       "    <tr>\n",
       "      <th>DateTime</th>\n",
       "      <th></th>\n",
       "      <th></th>\n",
       "    </tr>\n",
       "  </thead>\n",
       "  <tbody>\n",
       "    <tr>\n",
       "      <th>2018-01-07 19:07:49</th>\n",
       "      <td>-0.000280</td>\n",
       "      <td>2018-01-07 22:02:03.832</td>\n",
       "    </tr>\n",
       "    <tr>\n",
       "      <th>2018-01-07 19:15:23</th>\n",
       "      <td>-0.000280</td>\n",
       "      <td>2018-01-07 22:02:03.832</td>\n",
       "    </tr>\n",
       "    <tr>\n",
       "      <th>2018-01-08 07:38:48</th>\n",
       "      <td>-0.000010</td>\n",
       "      <td>2018-01-08 07:38:49.708</td>\n",
       "    </tr>\n",
       "    <tr>\n",
       "      <th>2018-01-08 08:10:55</th>\n",
       "      <td>-0.000020</td>\n",
       "      <td>2018-01-08 08:10:55.233</td>\n",
       "    </tr>\n",
       "    <tr>\n",
       "      <th>2018-01-08 08:19:10</th>\n",
       "      <td>-0.000015</td>\n",
       "      <td>2018-01-08 08:19:10.033</td>\n",
       "    </tr>\n",
       "  </tbody>\n",
       "</table>\n",
       "</div>"
      ],
      "text/plain": [
       "                       MT PnL        MT Executed Time\n",
       "DateTime                                             \n",
       "2018-01-07 19:07:49 -0.000280 2018-01-07 22:02:03.832\n",
       "2018-01-07 19:15:23 -0.000280 2018-01-07 22:02:03.832\n",
       "2018-01-08 07:38:48 -0.000010 2018-01-08 07:38:49.708\n",
       "2018-01-08 08:10:55 -0.000020 2018-01-08 08:10:55.233\n",
       "2018-01-08 08:19:10 -0.000015 2018-01-08 08:19:10.033"
      ]
     },
     "execution_count": 756,
     "metadata": {},
     "output_type": "execute_result"
    }
   ],
   "source": [
    "MT_PnL.head()"
   ]
  },
  {
   "cell_type": "code",
   "execution_count": 757,
   "metadata": {
    "scrolled": false
   },
   "outputs": [
    {
     "data": {
      "text/plain": [
       "<matplotlib.axes._subplots.AxesSubplot at 0x1845a9ef0>"
      ]
     },
     "execution_count": 757,
     "metadata": {},
     "output_type": "execute_result"
    },
    {
     "data": {
      "image/png": "[encoded data removed]",
      "text/plain": [
       "<Figure size 864x576 with 1 Axes>"
      ]
     },
     "metadata": {},
     "output_type": "display_data"
    }
   ],
   "source": [
    "MT_PnL['MT PnL'].cumsum().plot(figsize=(12,8), x='MT Time')"
   ]
  },
  {
   "cell_type": "markdown",
   "metadata": {},
   "source": [
    "# Opportunistic Market Making"
   ]
  },
  {
   "cell_type": "markdown",
   "metadata": {},
   "source": [
    "## OMMMid"
   ]
  },
  {
   "cell_type": "code",
   "execution_count": 682,
   "metadata": {},
   "outputs": [
    {
     "data": {
      "text/html": [
       "<div>\n",
       "<style scoped>\n",
       "    .dataframe tbody tr th:only-of-type {\n",
       "        vertical-align: middle;\n",
       "    }\n",
       "\n",
       "    .dataframe tbody tr th {\n",
       "        vertical-align: top;\n",
       "    }\n",
       "\n",
       "    .dataframe thead th {\n",
       "        text-align: right;\n",
       "    }\n",
       "</style>\n",
       "<table border=\"1\" class=\"dataframe\">\n",
       "  <thead>\n",
       "    <tr style=\"text-align: right;\">\n",
       "      <th></th>\n",
       "      <th>Bid</th>\n",
       "      <th>Ask</th>\n",
       "      <th>buy loss</th>\n",
       "      <th>sell loss</th>\n",
       "    </tr>\n",
       "    <tr>\n",
       "      <th>DateTime</th>\n",
       "      <th></th>\n",
       "      <th></th>\n",
       "      <th></th>\n",
       "      <th></th>\n",
       "    </tr>\n",
       "  </thead>\n",
       "  <tbody>\n",
       "    <tr>\n",
       "      <th>2018-01-12 21:58:57.897</th>\n",
       "      <td>1.37272</td>\n",
       "      <td>1.37345</td>\n",
       "      <td>0.02032</td>\n",
       "      <td>-0.01959</td>\n",
       "    </tr>\n",
       "    <tr>\n",
       "      <th>2018-01-12 21:58:57.933</th>\n",
       "      <td>1.37282</td>\n",
       "      <td>1.37357</td>\n",
       "      <td>0.02044</td>\n",
       "      <td>-0.01969</td>\n",
       "    </tr>\n",
       "    <tr>\n",
       "      <th>2018-01-12 21:58:57.937</th>\n",
       "      <td>1.37270</td>\n",
       "      <td>1.37343</td>\n",
       "      <td>0.02030</td>\n",
       "      <td>-0.01957</td>\n",
       "    </tr>\n",
       "    <tr>\n",
       "      <th>2018-01-12 21:58:57.948</th>\n",
       "      <td>1.37271</td>\n",
       "      <td>1.37344</td>\n",
       "      <td>0.02031</td>\n",
       "      <td>-0.01958</td>\n",
       "    </tr>\n",
       "    <tr>\n",
       "      <th>2018-01-12 21:58:57.957</th>\n",
       "      <td>1.37270</td>\n",
       "      <td>1.37343</td>\n",
       "      <td>0.02030</td>\n",
       "      <td>-0.01957</td>\n",
       "    </tr>\n",
       "  </tbody>\n",
       "</table>\n",
       "</div>"
      ],
      "text/plain": [
       "                             Bid      Ask  buy loss  sell loss\n",
       "DateTime                                                      \n",
       "2018-01-12 21:58:57.897  1.37272  1.37345   0.02032   -0.01959\n",
       "2018-01-12 21:58:57.933  1.37282  1.37357   0.02044   -0.01969\n",
       "2018-01-12 21:58:57.937  1.37270  1.37343   0.02030   -0.01957\n",
       "2018-01-12 21:58:57.948  1.37271  1.37344   0.02031   -0.01958\n",
       "2018-01-12 21:58:57.957  1.37270  1.37343   0.02030   -0.01957"
      ]
     },
     "execution_count": 682,
     "metadata": {},
     "output_type": "execute_result"
    }
   ],
   "source": [
    "tick.tail()"
   ]
  },
  {
   "cell_type": "code",
   "execution_count": 683,
   "metadata": {},
   "outputs": [
    {
     "data": {
      "text/html": [
       "<div>\n",
       "<style scoped>\n",
       "    .dataframe tbody tr th:only-of-type {\n",
       "        vertical-align: middle;\n",
       "    }\n",
       "\n",
       "    .dataframe tbody tr th {\n",
       "        vertical-align: top;\n",
       "    }\n",
       "\n",
       "    .dataframe thead th {\n",
       "        text-align: right;\n",
       "    }\n",
       "</style>\n",
       "<table border=\"1\" class=\"dataframe\">\n",
       "  <thead>\n",
       "    <tr style=\"text-align: right;\">\n",
       "      <th></th>\n",
       "      <th>trade_id</th>\n",
       "      <th>buy/sell</th>\n",
       "      <th>notional</th>\n",
       "      <th>price</th>\n",
       "      <th>instrument</th>\n",
       "      <th>alpha</th>\n",
       "      <th>MT PnL</th>\n",
       "      <th>MT Time</th>\n",
       "    </tr>\n",
       "    <tr>\n",
       "      <th>DateTime</th>\n",
       "      <th></th>\n",
       "      <th></th>\n",
       "      <th></th>\n",
       "      <th></th>\n",
       "      <th></th>\n",
       "      <th></th>\n",
       "      <th></th>\n",
       "      <th></th>\n",
       "    </tr>\n",
       "  </thead>\n",
       "  <tbody>\n",
       "    <tr>\n",
       "      <th>2018-01-12 15:32:12</th>\n",
       "      <td>110500</td>\n",
       "      <td>1</td>\n",
       "      <td>180000</td>\n",
       "      <td>1.37322</td>\n",
       "      <td>GBP/USD</td>\n",
       "      <td>DIS</td>\n",
       "      <td>-0.000005</td>\n",
       "      <td>2018-01-12 15:32:15.121</td>\n",
       "    </tr>\n",
       "    <tr>\n",
       "      <th>2018-01-12 16:03:23</th>\n",
       "      <td>110520</td>\n",
       "      <td>1</td>\n",
       "      <td>180000</td>\n",
       "      <td>1.37331</td>\n",
       "      <td>GBP/USD</td>\n",
       "      <td>MAR</td>\n",
       "      <td>-0.000010</td>\n",
       "      <td>2018-01-12 16:03:23.261</td>\n",
       "    </tr>\n",
       "    <tr>\n",
       "      <th>2018-01-12 16:03:24</th>\n",
       "      <td>110523</td>\n",
       "      <td>1</td>\n",
       "      <td>180000</td>\n",
       "      <td>1.37331</td>\n",
       "      <td>GBP/USD</td>\n",
       "      <td>MAR</td>\n",
       "      <td>-0.000020</td>\n",
       "      <td>2018-01-12 16:03:24.069</td>\n",
       "    </tr>\n",
       "    <tr>\n",
       "      <th>2018-01-12 16:18:07</th>\n",
       "      <td>110524</td>\n",
       "      <td>1</td>\n",
       "      <td>180000</td>\n",
       "      <td>1.37420</td>\n",
       "      <td>GBP/USD</td>\n",
       "      <td>MAR</td>\n",
       "      <td>-0.000005</td>\n",
       "      <td>2018-01-12 16:18:07.021</td>\n",
       "    </tr>\n",
       "    <tr>\n",
       "      <th>2018-01-12 16:33:22</th>\n",
       "      <td>110533</td>\n",
       "      <td>1</td>\n",
       "      <td>180000</td>\n",
       "      <td>1.37380</td>\n",
       "      <td>GBP/USD</td>\n",
       "      <td>MAR</td>\n",
       "      <td>-0.000025</td>\n",
       "      <td>2018-01-12 16:33:22.024</td>\n",
       "    </tr>\n",
       "  </tbody>\n",
       "</table>\n",
       "</div>"
      ],
      "text/plain": [
       "                     trade_id  buy/sell  notional    price instrument alpha  \\\n",
       "DateTime                                                                      \n",
       "2018-01-12 15:32:12    110500         1    180000  1.37322    GBP/USD   DIS   \n",
       "2018-01-12 16:03:23    110520         1    180000  1.37331    GBP/USD   MAR   \n",
       "2018-01-12 16:03:24    110523         1    180000  1.37331    GBP/USD   MAR   \n",
       "2018-01-12 16:18:07    110524         1    180000  1.37420    GBP/USD   MAR   \n",
       "2018-01-12 16:33:22    110533         1    180000  1.37380    GBP/USD   MAR   \n",
       "\n",
       "                       MT PnL                 MT Time  \n",
       "DateTime                                               \n",
       "2018-01-12 15:32:12 -0.000005 2018-01-12 15:32:15.121  \n",
       "2018-01-12 16:03:23 -0.000010 2018-01-12 16:03:23.261  \n",
       "2018-01-12 16:03:24 -0.000020 2018-01-12 16:03:24.069  \n",
       "2018-01-12 16:18:07 -0.000005 2018-01-12 16:18:07.021  \n",
       "2018-01-12 16:33:22 -0.000025 2018-01-12 16:33:22.024  "
      ]
     },
     "execution_count": 683,
     "metadata": {},
     "output_type": "execute_result"
    }
   ],
   "source": [
    "order.tail()"
   ]
  },
  {
   "cell_type": "code",
   "execution_count": 635,
   "metadata": {},
   "outputs": [],
   "source": [
    "## Max Time to Execute\n",
    "from datetime import timedelta\n",
    "TTE = timedelta(seconds=10)\n",
    "## Max Stop Loss, use half maximum loss from Market Taking strategy\n",
    "SL = -order['MT PnL'].min()*1/2"
   ]
  },
  {
   "cell_type": "code",
   "execution_count": 636,
   "metadata": {},
   "outputs": [],
   "source": [
    "SL = 0.00003"
   ]
  },
  {
   "cell_type": "code",
   "execution_count": 637,
   "metadata": {},
   "outputs": [
    {
     "data": {
      "text/plain": [
       "datetime.timedelta(0, 10)"
      ]
     },
     "execution_count": 637,
     "metadata": {},
     "output_type": "execute_result"
    }
   ],
   "source": [
    "TTE"
   ]
  },
  {
   "cell_type": "code",
   "execution_count": 638,
   "metadata": {},
   "outputs": [
    {
     "data": {
      "text/plain": [
       "3e-05"
      ]
     },
     "execution_count": 638,
     "metadata": {},
     "output_type": "execute_result"
    }
   ],
   "source": [
    "SL"
   ]
  },
  {
   "cell_type": "code",
   "execution_count": 639,
   "metadata": {},
   "outputs": [
    {
     "data": {
      "text/plain": [
       "Timestamp('2018-01-07 19:07:49')"
      ]
     },
     "execution_count": 639,
     "metadata": {},
     "output_type": "execute_result"
    }
   ],
   "source": [
    "order.index[0]"
   ]
  },
  {
   "cell_type": "code",
   "execution_count": 640,
   "metadata": {},
   "outputs": [
    {
     "data": {
      "text/plain": [
       "Timestamp('2018-01-07 19:07:59')"
      ]
     },
     "execution_count": 640,
     "metadata": {},
     "output_type": "execute_result"
    }
   ],
   "source": [
    "order.index[0] + timedelta(seconds=10)"
   ]
  },
  {
   "cell_type": "code",
   "execution_count": 641,
   "metadata": {},
   "outputs": [
    {
     "data": {
      "text/plain": [
       "Timestamp('2018-01-07 19:07:39')"
      ]
     },
     "execution_count": 641,
     "metadata": {},
     "output_type": "execute_result"
    }
   ],
   "source": [
    "order.index[0] - timedelta(seconds=10)"
   ]
  },
  {
   "cell_type": "code",
   "execution_count": 642,
   "metadata": {},
   "outputs": [
    {
     "data": {
      "text/plain": [
       "Timestamp('2018-01-10 05:38:25')"
      ]
     },
     "execution_count": 642,
     "metadata": {},
     "output_type": "execute_result"
    }
   ],
   "source": [
    "i = order.index[100]\n",
    "i"
   ]
  },
  {
   "cell_type": "code",
   "execution_count": 643,
   "metadata": {},
   "outputs": [
    {
     "data": {
      "text/plain": [
       "513119"
      ]
     },
     "execution_count": 643,
     "metadata": {},
     "output_type": "execute_result"
    }
   ],
   "source": [
    "nearest_row_num = tick.index.get_loc(i, method='backfill')\n",
    "nearest_row_num"
   ]
  },
  {
   "cell_type": "code",
   "execution_count": 644,
   "metadata": {},
   "outputs": [
    {
     "data": {
      "text/plain": [
       "Bid    1.35311\n",
       "Ask    1.35315\n",
       "Name: 2018-01-10 05:38:25.153000, dtype: float64"
      ]
     },
     "execution_count": 644,
     "metadata": {},
     "output_type": "execute_result"
    }
   ],
   "source": [
    "nearest = tick.iloc[nearest_row_num]\n",
    "nearest"
   ]
  },
  {
   "cell_type": "code",
   "execution_count": 645,
   "metadata": {},
   "outputs": [
    {
     "data": {
      "text/plain": [
       "1.3531300000000002"
      ]
     },
     "execution_count": 645,
     "metadata": {},
     "output_type": "execute_result"
    }
   ],
   "source": [
    "mid = (nearest[0] + nearest[1])/2\n",
    "mid"
   ]
  },
  {
   "cell_type": "code",
   "execution_count": 646,
   "metadata": {},
   "outputs": [],
   "source": [
    "tick['buy loss'] = tick['Ask'] - mid\n",
    "tick['sell loss'] = mid - tick['Bid'] "
   ]
  },
  {
   "cell_type": "code",
   "execution_count": 647,
   "metadata": {},
   "outputs": [
    {
     "data": {
      "text/html": [
       "<div>\n",
       "<style scoped>\n",
       "    .dataframe tbody tr th:only-of-type {\n",
       "        vertical-align: middle;\n",
       "    }\n",
       "\n",
       "    .dataframe tbody tr th {\n",
       "        vertical-align: top;\n",
       "    }\n",
       "\n",
       "    .dataframe thead th {\n",
       "        text-align: right;\n",
       "    }\n",
       "</style>\n",
       "<table border=\"1\" class=\"dataframe\">\n",
       "  <thead>\n",
       "    <tr style=\"text-align: right;\">\n",
       "      <th></th>\n",
       "      <th>Bid</th>\n",
       "      <th>Ask</th>\n",
       "      <th>buy loss</th>\n",
       "      <th>sell loss</th>\n",
       "    </tr>\n",
       "    <tr>\n",
       "      <th>DateTime</th>\n",
       "      <th></th>\n",
       "      <th></th>\n",
       "      <th></th>\n",
       "      <th></th>\n",
       "    </tr>\n",
       "  </thead>\n",
       "  <tbody>\n",
       "    <tr>\n",
       "      <th>2018-01-07 22:02:03.832</th>\n",
       "      <td>1.35560</td>\n",
       "      <td>1.35616</td>\n",
       "      <td>0.00303</td>\n",
       "      <td>-0.00247</td>\n",
       "    </tr>\n",
       "    <tr>\n",
       "      <th>2018-01-07 22:02:03.845</th>\n",
       "      <td>1.35560</td>\n",
       "      <td>1.35617</td>\n",
       "      <td>0.00304</td>\n",
       "      <td>-0.00247</td>\n",
       "    </tr>\n",
       "    <tr>\n",
       "      <th>2018-01-07 22:02:03.851</th>\n",
       "      <td>1.35554</td>\n",
       "      <td>1.35617</td>\n",
       "      <td>0.00304</td>\n",
       "      <td>-0.00241</td>\n",
       "    </tr>\n",
       "    <tr>\n",
       "      <th>2018-01-07 22:02:03.859</th>\n",
       "      <td>1.35554</td>\n",
       "      <td>1.35618</td>\n",
       "      <td>0.00305</td>\n",
       "      <td>-0.00241</td>\n",
       "    </tr>\n",
       "    <tr>\n",
       "      <th>2018-01-07 22:02:04.114</th>\n",
       "      <td>1.35554</td>\n",
       "      <td>1.35619</td>\n",
       "      <td>0.00306</td>\n",
       "      <td>-0.00241</td>\n",
       "    </tr>\n",
       "  </tbody>\n",
       "</table>\n",
       "</div>"
      ],
      "text/plain": [
       "                             Bid      Ask  buy loss  sell loss\n",
       "DateTime                                                      \n",
       "2018-01-07 22:02:03.832  1.35560  1.35616   0.00303   -0.00247\n",
       "2018-01-07 22:02:03.845  1.35560  1.35617   0.00304   -0.00247\n",
       "2018-01-07 22:02:03.851  1.35554  1.35617   0.00304   -0.00241\n",
       "2018-01-07 22:02:03.859  1.35554  1.35618   0.00305   -0.00241\n",
       "2018-01-07 22:02:04.114  1.35554  1.35619   0.00306   -0.00241"
      ]
     },
     "execution_count": 647,
     "metadata": {},
     "output_type": "execute_result"
    }
   ],
   "source": [
    "tick.head()"
   ]
  },
  {
   "cell_type": "code",
   "execution_count": 648,
   "metadata": {},
   "outputs": [
    {
     "data": {
      "text/plain": [
       "Timestamp('2018-01-10 05:38:25.153000')"
      ]
     },
     "execution_count": 648,
     "metadata": {},
     "output_type": "execute_result"
    }
   ],
   "source": [
    "start_time = tick.index[nearest_row_num]\n",
    "start_time"
   ]
  },
  {
   "cell_type": "code",
   "execution_count": 649,
   "metadata": {
    "scrolled": true
   },
   "outputs": [
    {
     "data": {
      "text/plain": [
       "Timestamp('2018-01-10 05:38:35.153000')"
      ]
     },
     "execution_count": 649,
     "metadata": {},
     "output_type": "execute_result"
    }
   ],
   "source": [
    "end_time = start_time + TTE\n",
    "end_time"
   ]
  },
  {
   "cell_type": "code",
   "execution_count": 650,
   "metadata": {},
   "outputs": [
    {
     "data": {
      "text/plain": [
       "Timestamp('2018-01-10 05:38:35.126000')"
      ]
     },
     "execution_count": 650,
     "metadata": {},
     "output_type": "execute_result"
    }
   ],
   "source": [
    "TTE_time = tick.index[tick.index.get_loc(end_time, method='pad')]\n",
    "TTE_time"
   ]
  },
  {
   "cell_type": "code",
   "execution_count": 651,
   "metadata": {},
   "outputs": [
    {
     "data": {
      "text/plain": [
       "Timestamp('2018-01-10 05:38:33.080000')"
      ]
     },
     "execution_count": 651,
     "metadata": {},
     "output_type": "execute_result"
    }
   ],
   "source": [
    "SL_time = (tick.loc[start_time:])[(tick.loc[start_time:])['buy loss']>SL].index[0]\n",
    "SL_time"
   ]
  },
  {
   "cell_type": "code",
   "execution_count": 652,
   "metadata": {},
   "outputs": [
    {
     "data": {
      "text/plain": [
       "Timestamp('2018-01-10 05:38:55.690000')"
      ]
     },
     "execution_count": 652,
     "metadata": {},
     "output_type": "execute_result"
    }
   ],
   "source": [
    "mid_time = (tick.loc[start_time:])[(tick.loc[start_time:])['Ask']<=mid].index[0]\n",
    "mid_time"
   ]
  },
  {
   "cell_type": "code",
   "execution_count": 654,
   "metadata": {},
   "outputs": [
    {
     "data": {
      "text/plain": [
       "Timestamp('2018-01-10 05:38:25.153000')"
      ]
     },
     "metadata": {},
     "output_type": "display_data"
    },
    {
     "data": {
      "text/plain": [
       "Timestamp('2018-01-10 05:38:55.690000')"
      ]
     },
     "metadata": {},
     "output_type": "display_data"
    },
    {
     "data": {
      "text/plain": [
       "Timestamp('2018-01-10 05:38:33.080000')"
      ]
     },
     "metadata": {},
     "output_type": "display_data"
    },
    {
     "data": {
      "text/plain": [
       "Timestamp('2018-01-10 05:38:35.126000')"
      ]
     },
     "metadata": {},
     "output_type": "display_data"
    }
   ],
   "source": [
    "display(start_time, mid_time, SL_time, TTE_time)"
   ]
  },
  {
   "cell_type": "code",
   "execution_count": 655,
   "metadata": {},
   "outputs": [
    {
     "data": {
      "text/plain": [
       "Timestamp('2018-01-10 05:38:55.690000')"
      ]
     },
     "execution_count": 655,
     "metadata": {},
     "output_type": "execute_result"
    }
   ],
   "source": [
    "trade_time = max(mid_time, SL_time, TTE_time)\n",
    "trade_time"
   ]
  },
  {
   "cell_type": "code",
   "execution_count": 656,
   "metadata": {
    "scrolled": true
   },
   "outputs": [
    {
     "data": {
      "text/plain": [
       "2.220446049250313e-16"
      ]
     },
     "execution_count": 656,
     "metadata": {},
     "output_type": "execute_result"
    }
   ],
   "source": [
    "PnL = mid - tick.loc[trade_time, 'Ask']\n",
    "PnL"
   ]
  },
  {
   "cell_type": "code",
   "execution_count": 748,
   "metadata": {},
   "outputs": [],
   "source": [
    "def OMMMid(order, tick, SL, TTE):\n",
    "    PnL_df = pd.DataFrame(index=order.index)\n",
    "    \n",
    "    max_time = tick.index[-1]+timedelta(days=1)\n",
    "    \n",
    "    for i in order.index:\n",
    "        nearest_row_num = tick.index.get_loc(i, method='backfill')\n",
    "        nearest = tick.iloc[nearest_row_num]\n",
    "        mid = (nearest[0] + nearest[1])/2\n",
    "        \n",
    "        start_time = tick.index[nearest_row_num]\n",
    "        end_time = start_time + TTE\n",
    "        TTE_time = tick.index[tick.index.get_loc(end_time, method='pad')]\n",
    "\n",
    "        if order.loc[i,'buy/sell']==1:\n",
    "            try: SL_time = (tick.loc[start_time:])[(tick.loc[start_time:])['buy loss']>=SL].index[0]\n",
    "            except: SL_time = max_time\n",
    "            try: mid_time = (tick.loc[start_time:])[(tick.loc[start_time:])['Ask']<=mid].index[0]\n",
    "            except: mid_time = max_time\n",
    "            trade_time = min(mid_time, SL_time, TTE_time)\n",
    "        \n",
    "            PnL = mid - tick.loc[trade_time, 'Ask']\n",
    "        elif order.loc[i,'buy/sell']==-1:\n",
    "            try: SL_time = (tick.loc[start_time:])[(tick.loc[start_time:])['sell loss']>=SL].index[0]\n",
    "            except: SL_time = max_time\n",
    "            try: mid_time = (tick.loc[start_time:])[(tick.loc[start_time:])['Bid']>=mid].index[0]\n",
    "            except: mid_time = max_time\n",
    "            trade_time = min(mid_time, SL_time, TTE_time)\n",
    "        \n",
    "            PnL = tick.loc[trade_time, 'Bid'] - mid\n",
    "        \n",
    "        if trade_time == TTE_time: trigger = 'TTE'\n",
    "        elif trade_time == SL_time: trigger = 'SL'\n",
    "        else: trigger = 'Else'\n",
    "        \n",
    "        PnL_df.loc[i, 'OMMMid PnL'] = PnL\n",
    "        PnL_df.loc[i, 'OMMMid Time to Execute'] = trade_time - start_time\n",
    "        PnL_df.loc[i, 'Trigger'] = trigger\n",
    "    \n",
    "    return PnL_df"
   ]
  },
  {
   "cell_type": "code",
   "execution_count": 749,
   "metadata": {
    "scrolled": true
   },
   "outputs": [],
   "source": [
    "OMMMid_PnL = OMMMid(order, tick, SL, TTE)"
   ]
  },
  {
   "cell_type": "code",
   "execution_count": 750,
   "metadata": {},
   "outputs": [
    {
     "data": {
      "text/html": [
       "<div>\n",
       "<style scoped>\n",
       "    .dataframe tbody tr th:only-of-type {\n",
       "        vertical-align: middle;\n",
       "    }\n",
       "\n",
       "    .dataframe tbody tr th {\n",
       "        vertical-align: top;\n",
       "    }\n",
       "\n",
       "    .dataframe thead th {\n",
       "        text-align: right;\n",
       "    }\n",
       "</style>\n",
       "<table border=\"1\" class=\"dataframe\">\n",
       "  <thead>\n",
       "    <tr style=\"text-align: right;\">\n",
       "      <th></th>\n",
       "      <th>OMMMid PnL</th>\n",
       "      <th>OMMMid Start Time</th>\n",
       "      <th>OMMMid Executed Time</th>\n",
       "      <th>Trigger</th>\n",
       "    </tr>\n",
       "    <tr>\n",
       "      <th>DateTime</th>\n",
       "      <th></th>\n",
       "      <th></th>\n",
       "      <th></th>\n",
       "      <th></th>\n",
       "    </tr>\n",
       "  </thead>\n",
       "  <tbody>\n",
       "    <tr>\n",
       "      <th>2018-01-07 19:07:49</th>\n",
       "      <td>-0.000280</td>\n",
       "      <td>2018-01-07 22:02:03.832</td>\n",
       "      <td>2018-01-07 22:02:03.832</td>\n",
       "      <td>SL</td>\n",
       "    </tr>\n",
       "    <tr>\n",
       "      <th>2018-01-07 19:15:23</th>\n",
       "      <td>-0.000280</td>\n",
       "      <td>2018-01-07 22:02:03.832</td>\n",
       "      <td>2018-01-07 22:02:03.832</td>\n",
       "      <td>SL</td>\n",
       "    </tr>\n",
       "    <tr>\n",
       "      <th>2018-01-08 07:38:48</th>\n",
       "      <td>0.000000</td>\n",
       "      <td>2018-01-08 07:38:49.708</td>\n",
       "      <td>2018-01-08 07:38:49.787</td>\n",
       "      <td>Else</td>\n",
       "    </tr>\n",
       "    <tr>\n",
       "      <th>2018-01-08 08:10:55</th>\n",
       "      <td>0.000020</td>\n",
       "      <td>2018-01-08 08:10:55.233</td>\n",
       "      <td>2018-01-08 08:11:01.082</td>\n",
       "      <td>Else</td>\n",
       "    </tr>\n",
       "    <tr>\n",
       "      <th>2018-01-08 08:19:10</th>\n",
       "      <td>-0.000105</td>\n",
       "      <td>2018-01-08 08:19:10.033</td>\n",
       "      <td>2018-01-08 08:19:19.470</td>\n",
       "      <td>TTE</td>\n",
       "    </tr>\n",
       "  </tbody>\n",
       "</table>\n",
       "</div>"
      ],
      "text/plain": [
       "                     OMMMid PnL       OMMMid Start Time  \\\n",
       "DateTime                                                  \n",
       "2018-01-07 19:07:49   -0.000280 2018-01-07 22:02:03.832   \n",
       "2018-01-07 19:15:23   -0.000280 2018-01-07 22:02:03.832   \n",
       "2018-01-08 07:38:48    0.000000 2018-01-08 07:38:49.708   \n",
       "2018-01-08 08:10:55    0.000020 2018-01-08 08:10:55.233   \n",
       "2018-01-08 08:19:10   -0.000105 2018-01-08 08:19:10.033   \n",
       "\n",
       "                       OMMMid Executed Time Trigger  \n",
       "DateTime                                             \n",
       "2018-01-07 19:07:49 2018-01-07 22:02:03.832      SL  \n",
       "2018-01-07 19:15:23 2018-01-07 22:02:03.832      SL  \n",
       "2018-01-08 07:38:48 2018-01-08 07:38:49.787    Else  \n",
       "2018-01-08 08:10:55 2018-01-08 08:11:01.082    Else  \n",
       "2018-01-08 08:19:10 2018-01-08 08:19:19.470     TTE  "
      ]
     },
     "execution_count": 750,
     "metadata": {},
     "output_type": "execute_result"
    }
   ],
   "source": [
    "OMMMid_PnL.head()"
   ]
  },
  {
   "cell_type": "markdown",
   "metadata": {},
   "source": [
    "## OMMSide"
   ]
  },
  {
   "cell_type": "code",
   "execution_count": 751,
   "metadata": {},
   "outputs": [],
   "source": [
    "def OMMSide(order, tick, SL, TTE):\n",
    "    PnL_df = pd.DataFrame(index=order.index)\n",
    "    \n",
    "    max_time = tick.index[-1]+timedelta(days=1)\n",
    "    \n",
    "    for i in order.index:\n",
    "        nearest_row_num = tick.index.get_loc(i, method='backfill')\n",
    "        nearest = tick.iloc[nearest_row_num]\n",
    "        mid = (nearest[0] + nearest[1])/2\n",
    "        buy = nearest[0] ## Bid\n",
    "        sell = nearest[1] ## Ask\n",
    "        \n",
    "        start_time = tick.index[nearest_row_num]\n",
    "        end_time = start_time + TTE\n",
    "        TTE_time = tick.index[tick.index.get_loc(end_time, method='pad')]\n",
    "\n",
    "        if order.loc[i,'buy/sell']==1:\n",
    "            try: SL_time = (tick.loc[start_time:])[(tick.loc[start_time:])['buy loss']>=SL].index[0]\n",
    "            except: SL_time = max_time\n",
    "            try: buy_time = (tick.loc[start_time:])[(tick.loc[start_time:])['Ask']<=buy].index[0]\n",
    "            except: buy_time = max_time\n",
    "            trade_time = min(buy_time, SL_time, TTE_time)\n",
    "        \n",
    "            PnL = mid - tick.loc[trade_time, 'Ask']\n",
    "        elif order.loc[i,'buy/sell']==-1:\n",
    "            try: SL_time = (tick.loc[start_time:])[(tick.loc[start_time:])['sell loss']>=SL].index[0]\n",
    "            except: SL_time = max_time\n",
    "            try: sell_time = (tick.loc[start_time:])[(tick.loc[start_time:])['Bid']>=sell].index[0]\n",
    "            except: sell_time = max_time\n",
    "            trade_time = min(sell_time, SL_time, TTE_time)\n",
    "        \n",
    "            PnL = tick.loc[trade_time, 'Bid'] - mid\n",
    "        \n",
    "        if trade_time == TTE_time: trigger = 'TTE'\n",
    "        elif trade_time == SL_time: trigger = 'SL'\n",
    "        else: trigger = 'Else'\n",
    "        \n",
    "        PnL_df.loc[i, 'OMMSide PnL'] = PnL\n",
    "        PnL_df.loc[i, 'OMMSide Start Time'] = start_time\n",
    "        PnL_df.loc[i, 'OMMSide Executed Time'] = trade_time\n",
    "        PnL_df.loc[i, 'Trigger'] = trigger\n",
    "    \n",
    "    return PnL_df"
   ]
  },
  {
   "cell_type": "code",
   "execution_count": 752,
   "metadata": {},
   "outputs": [],
   "source": [
    "OMMSide_PnL = OMMSide(order, tick, SL, TTE)"
   ]
  },
  {
   "cell_type": "code",
   "execution_count": 753,
   "metadata": {},
   "outputs": [
    {
     "data": {
      "text/html": [
       "<div>\n",
       "<style scoped>\n",
       "    .dataframe tbody tr th:only-of-type {\n",
       "        vertical-align: middle;\n",
       "    }\n",
       "\n",
       "    .dataframe tbody tr th {\n",
       "        vertical-align: top;\n",
       "    }\n",
       "\n",
       "    .dataframe thead th {\n",
       "        text-align: right;\n",
       "    }\n",
       "</style>\n",
       "<table border=\"1\" class=\"dataframe\">\n",
       "  <thead>\n",
       "    <tr style=\"text-align: right;\">\n",
       "      <th></th>\n",
       "      <th>OMMSide PnL</th>\n",
       "      <th>OMMSide Start Time</th>\n",
       "      <th>OMMSide Executed Time</th>\n",
       "      <th>Trigger</th>\n",
       "    </tr>\n",
       "    <tr>\n",
       "      <th>DateTime</th>\n",
       "      <th></th>\n",
       "      <th></th>\n",
       "      <th></th>\n",
       "      <th></th>\n",
       "    </tr>\n",
       "  </thead>\n",
       "  <tbody>\n",
       "    <tr>\n",
       "      <th>2018-01-07 19:07:49</th>\n",
       "      <td>-0.000280</td>\n",
       "      <td>2018-01-07 22:02:03.832</td>\n",
       "      <td>2018-01-07 22:02:03.832</td>\n",
       "      <td>SL</td>\n",
       "    </tr>\n",
       "    <tr>\n",
       "      <th>2018-01-07 19:15:23</th>\n",
       "      <td>-0.000280</td>\n",
       "      <td>2018-01-07 22:02:03.832</td>\n",
       "      <td>2018-01-07 22:02:03.832</td>\n",
       "      <td>SL</td>\n",
       "    </tr>\n",
       "    <tr>\n",
       "      <th>2018-01-08 07:38:48</th>\n",
       "      <td>0.000020</td>\n",
       "      <td>2018-01-08 07:38:49.708</td>\n",
       "      <td>2018-01-08 07:38:50.407</td>\n",
       "      <td>Else</td>\n",
       "    </tr>\n",
       "    <tr>\n",
       "      <th>2018-01-08 08:10:55</th>\n",
       "      <td>0.000020</td>\n",
       "      <td>2018-01-08 08:10:55.233</td>\n",
       "      <td>2018-01-08 08:11:01.082</td>\n",
       "      <td>Else</td>\n",
       "    </tr>\n",
       "    <tr>\n",
       "      <th>2018-01-08 08:19:10</th>\n",
       "      <td>-0.000105</td>\n",
       "      <td>2018-01-08 08:19:10.033</td>\n",
       "      <td>2018-01-08 08:19:19.470</td>\n",
       "      <td>TTE</td>\n",
       "    </tr>\n",
       "  </tbody>\n",
       "</table>\n",
       "</div>"
      ],
      "text/plain": [
       "                     OMMSide PnL      OMMSide Start Time  \\\n",
       "DateTime                                                   \n",
       "2018-01-07 19:07:49    -0.000280 2018-01-07 22:02:03.832   \n",
       "2018-01-07 19:15:23    -0.000280 2018-01-07 22:02:03.832   \n",
       "2018-01-08 07:38:48     0.000020 2018-01-08 07:38:49.708   \n",
       "2018-01-08 08:10:55     0.000020 2018-01-08 08:10:55.233   \n",
       "2018-01-08 08:19:10    -0.000105 2018-01-08 08:19:10.033   \n",
       "\n",
       "                      OMMSide Executed Time Trigger  \n",
       "DateTime                                             \n",
       "2018-01-07 19:07:49 2018-01-07 22:02:03.832      SL  \n",
       "2018-01-07 19:15:23 2018-01-07 22:02:03.832      SL  \n",
       "2018-01-08 07:38:48 2018-01-08 07:38:50.407    Else  \n",
       "2018-01-08 08:10:55 2018-01-08 08:11:01.082    Else  \n",
       "2018-01-08 08:19:10 2018-01-08 08:19:19.470     TTE  "
      ]
     },
     "execution_count": 753,
     "metadata": {},
     "output_type": "execute_result"
    }
   ],
   "source": [
    "OMMSide_PnL.head()"
   ]
  },
  {
   "cell_type": "code",
   "execution_count": null,
   "metadata": {},
   "outputs": [],
   "source": []
  },
  {
   "cell_type": "markdown",
   "metadata": {},
   "source": [
    "# Analysis"
   ]
  },
  {
   "cell_type": "code",
   "execution_count": 785,
   "metadata": {},
   "outputs": [
    {
     "ename": "AttributeError",
     "evalue": "'Series' object has no attribute 'seconds'",
     "output_type": "error",
     "traceback": [
      "\u001b[0;31m---------------------------------------------------------------------------\u001b[0m",
      "\u001b[0;31mAttributeError\u001b[0m                            Traceback (most recent call last)",
      "\u001b[0;32m<ipython-input-785-064861720b57>\u001b[0m in \u001b[0;36m<module>\u001b[0;34m()\u001b[0m\n\u001b[0;32m----> 1\u001b[0;31m \u001b[0mOMMSide_PnL\u001b[0m\u001b[0;34m[\u001b[0m\u001b[0;34m'Time to Executed'\u001b[0m\u001b[0;34m]\u001b[0m \u001b[0;34m=\u001b[0m \u001b[0;34m(\u001b[0m\u001b[0mOMMSide_PnL\u001b[0m\u001b[0;34m[\u001b[0m\u001b[0;34m'OMMSide Executed Time'\u001b[0m\u001b[0;34m]\u001b[0m \u001b[0;34m-\u001b[0m \u001b[0mOMMSide_PnL\u001b[0m\u001b[0;34m[\u001b[0m\u001b[0;34m'OMMSide Start Time'\u001b[0m\u001b[0;34m]\u001b[0m\u001b[0;34m)\u001b[0m\u001b[0;34m.\u001b[0m\u001b[0mseconds\u001b[0m\u001b[0;34m\u001b[0m\u001b[0;34m\u001b[0m\u001b[0m\n\u001b[0m",
      "\u001b[0;32m/anaconda3/lib/python3.6/site-packages/pandas/core/generic.py\u001b[0m in \u001b[0;36m__getattr__\u001b[0;34m(self, name)\u001b[0m\n\u001b[1;32m   4370\u001b[0m             \u001b[0;32mif\u001b[0m \u001b[0mself\u001b[0m\u001b[0;34m.\u001b[0m\u001b[0m_info_axis\u001b[0m\u001b[0;34m.\u001b[0m\u001b[0m_can_hold_identifiers_and_holds_name\u001b[0m\u001b[0;34m(\u001b[0m\u001b[0mname\u001b[0m\u001b[0;34m)\u001b[0m\u001b[0;34m:\u001b[0m\u001b[0;34m\u001b[0m\u001b[0;34m\u001b[0m\u001b[0m\n\u001b[1;32m   4371\u001b[0m                 \u001b[0;32mreturn\u001b[0m \u001b[0mself\u001b[0m\u001b[0;34m[\u001b[0m\u001b[0mname\u001b[0m\u001b[0;34m]\u001b[0m\u001b[0;34m\u001b[0m\u001b[0;34m\u001b[0m\u001b[0m\n\u001b[0;32m-> 4372\u001b[0;31m             \u001b[0;32mreturn\u001b[0m \u001b[0mobject\u001b[0m\u001b[0;34m.\u001b[0m\u001b[0m__getattribute__\u001b[0m\u001b[0;34m(\u001b[0m\u001b[0mself\u001b[0m\u001b[0;34m,\u001b[0m \u001b[0mname\u001b[0m\u001b[0;34m)\u001b[0m\u001b[0;34m\u001b[0m\u001b[0;34m\u001b[0m\u001b[0m\n\u001b[0m\u001b[1;32m   4373\u001b[0m \u001b[0;34m\u001b[0m\u001b[0m\n\u001b[1;32m   4374\u001b[0m     \u001b[0;32mdef\u001b[0m \u001b[0m__setattr__\u001b[0m\u001b[0;34m(\u001b[0m\u001b[0mself\u001b[0m\u001b[0;34m,\u001b[0m \u001b[0mname\u001b[0m\u001b[0;34m,\u001b[0m \u001b[0mvalue\u001b[0m\u001b[0;34m)\u001b[0m\u001b[0;34m:\u001b[0m\u001b[0;34m\u001b[0m\u001b[0;34m\u001b[0m\u001b[0m\n",
      "\u001b[0;31mAttributeError\u001b[0m: 'Series' object has no attribute 'seconds'"
     ]
    }
   ],
   "source": [
    "OMMSide_PnL['Time to Executed'] = (OMMSide_PnL['OMMSide Executed Time'] - OMMSide_PnL['OMMSide Start Time']).seconds"
   ]
  },
  {
   "cell_type": "code",
   "execution_count": 774,
   "metadata": {},
   "outputs": [
    {
     "data": {
      "text/html": [
       "<div>\n",
       "<style scoped>\n",
       "    .dataframe tbody tr th:only-of-type {\n",
       "        vertical-align: middle;\n",
       "    }\n",
       "\n",
       "    .dataframe tbody tr th {\n",
       "        vertical-align: top;\n",
       "    }\n",
       "\n",
       "    .dataframe thead th {\n",
       "        text-align: right;\n",
       "    }\n",
       "</style>\n",
       "<table border=\"1\" class=\"dataframe\">\n",
       "  <thead>\n",
       "    <tr style=\"text-align: right;\">\n",
       "      <th></th>\n",
       "      <th>OMMSide PnL</th>\n",
       "      <th>OMMSide Start Time</th>\n",
       "      <th>OMMSide Executed Time</th>\n",
       "      <th>Trigger</th>\n",
       "      <th>Time to Executed</th>\n",
       "    </tr>\n",
       "    <tr>\n",
       "      <th>DateTime</th>\n",
       "      <th></th>\n",
       "      <th></th>\n",
       "      <th></th>\n",
       "      <th></th>\n",
       "      <th></th>\n",
       "    </tr>\n",
       "  </thead>\n",
       "  <tbody>\n",
       "    <tr>\n",
       "      <th>2018-01-07 19:07:49</th>\n",
       "      <td>-0.000280</td>\n",
       "      <td>2018-01-07 22:02:03.832</td>\n",
       "      <td>2018-01-07 22:02:03.832</td>\n",
       "      <td>SL</td>\n",
       "      <td>00:00:00</td>\n",
       "    </tr>\n",
       "    <tr>\n",
       "      <th>2018-01-07 19:15:23</th>\n",
       "      <td>-0.000280</td>\n",
       "      <td>2018-01-07 22:02:03.832</td>\n",
       "      <td>2018-01-07 22:02:03.832</td>\n",
       "      <td>SL</td>\n",
       "      <td>00:00:00</td>\n",
       "    </tr>\n",
       "    <tr>\n",
       "      <th>2018-01-08 07:38:48</th>\n",
       "      <td>0.000020</td>\n",
       "      <td>2018-01-08 07:38:49.708</td>\n",
       "      <td>2018-01-08 07:38:50.407</td>\n",
       "      <td>Else</td>\n",
       "      <td>00:00:00.699000</td>\n",
       "    </tr>\n",
       "    <tr>\n",
       "      <th>2018-01-08 08:10:55</th>\n",
       "      <td>0.000020</td>\n",
       "      <td>2018-01-08 08:10:55.233</td>\n",
       "      <td>2018-01-08 08:11:01.082</td>\n",
       "      <td>Else</td>\n",
       "      <td>00:00:05.849000</td>\n",
       "    </tr>\n",
       "    <tr>\n",
       "      <th>2018-01-08 08:19:10</th>\n",
       "      <td>-0.000105</td>\n",
       "      <td>2018-01-08 08:19:10.033</td>\n",
       "      <td>2018-01-08 08:19:19.470</td>\n",
       "      <td>TTE</td>\n",
       "      <td>00:00:09.437000</td>\n",
       "    </tr>\n",
       "  </tbody>\n",
       "</table>\n",
       "</div>"
      ],
      "text/plain": [
       "                     OMMSide PnL      OMMSide Start Time  \\\n",
       "DateTime                                                   \n",
       "2018-01-07 19:07:49    -0.000280 2018-01-07 22:02:03.832   \n",
       "2018-01-07 19:15:23    -0.000280 2018-01-07 22:02:03.832   \n",
       "2018-01-08 07:38:48     0.000020 2018-01-08 07:38:49.708   \n",
       "2018-01-08 08:10:55     0.000020 2018-01-08 08:10:55.233   \n",
       "2018-01-08 08:19:10    -0.000105 2018-01-08 08:19:10.033   \n",
       "\n",
       "                      OMMSide Executed Time Trigger Time to Executed  \n",
       "DateTime                                                              \n",
       "2018-01-07 19:07:49 2018-01-07 22:02:03.832      SL         00:00:00  \n",
       "2018-01-07 19:15:23 2018-01-07 22:02:03.832      SL         00:00:00  \n",
       "2018-01-08 07:38:48 2018-01-08 07:38:50.407    Else  00:00:00.699000  \n",
       "2018-01-08 08:10:55 2018-01-08 08:11:01.082    Else  00:00:05.849000  \n",
       "2018-01-08 08:19:10 2018-01-08 08:19:19.470     TTE  00:00:09.437000  "
      ]
     },
     "execution_count": 774,
     "metadata": {},
     "output_type": "execute_result"
    }
   ],
   "source": [
    "OMMSide_PnL.head()"
   ]
  },
  {
   "cell_type": "code",
   "execution_count": 765,
   "metadata": {},
   "outputs": [
    {
     "data": {
      "text/plain": [
       "Timestamp('2018-01-10 05:38:25.153000')"
      ]
     },
     "execution_count": 765,
     "metadata": {},
     "output_type": "execute_result"
    }
   ],
   "source": [
    "start_time"
   ]
  },
  {
   "cell_type": "code",
   "execution_count": 780,
   "metadata": {},
   "outputs": [
    {
     "data": {
      "text/plain": [
       "10"
      ]
     },
     "execution_count": 780,
     "metadata": {},
     "output_type": "execute_result"
    }
   ],
   "source": [
    "(end_time - start_time).seconds"
   ]
  },
  {
   "cell_type": "code",
   "execution_count": 794,
   "metadata": {},
   "outputs": [
    {
     "data": {
      "text/plain": [
       "Timedelta('0 days 00:07:34')"
      ]
     },
     "execution_count": 794,
     "metadata": {},
     "output_type": "execute_result"
    }
   ],
   "source": [
    "(OMMSide_PnL.index[1]-OMMSide_PnL.index[0])"
   ]
  },
  {
   "cell_type": "code",
   "execution_count": null,
   "metadata": {},
   "outputs": [],
   "source": []
  }
 ],
 "metadata": {
  "kernelspec": {
   "display_name": "Python 3",
   "language": "python",
   "name": "python3"
  },
  "language_info": {
   "codemirror_mode": {
    "name": "ipython",
    "version": 3
   },
   "file_extension": ".py",
   "mimetype": "text/x-python",
   "name": "python",
   "nbconvert_exporter": "python",
   "pygments_lexer": "ipython3",
   "version": "3.6.8"
  },
  "toc": {
   "base_numbering": 1,
   "nav_menu": {},
   "number_sections": true,
   "sideBar": true,
   "skip_h1_title": false,
   "title_cell": "Table of Contents",
   "title_sidebar": "Contents",
   "toc_cell": false,
   "toc_position": {
    "height": "calc(100% - 180px)",
    "left": "10px",
    "top": "150px",
    "width": "206.188px"
   },
   "toc_section_display": true,
   "toc_window_display": true
  }
 },
 "nbformat": 4,
 "nbformat_minor": 2
}
