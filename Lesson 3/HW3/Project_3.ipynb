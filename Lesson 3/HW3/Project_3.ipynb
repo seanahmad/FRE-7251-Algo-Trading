{
 "cells": [
  {
   "cell_type": "code",
   "execution_count": 233,
   "metadata": {},
   "outputs": [],
   "source": [
    "import os\n",
    "import pandas as pd\n",
    "import numpy as np\n",
    "import matplotlib.pyplot as plt"
   ]
  },
  {
   "cell_type": "code",
   "execution_count": 234,
   "metadata": {},
   "outputs": [],
   "source": [
    "TICK_DATA = os.path.join(os.getcwd(), '2.csv')\n",
    "ORDER_DATA = os.path.join(os.getcwd(), 'Assignment#3_Orders.csv')\n",
    "\n",
    "tick = pd.read_csv(TICK_DATA, encoding='utf-16-le')\n",
    "order = pd.read_csv(ORDER_DATA)"
   ]
  },
  {
   "cell_type": "code",
   "execution_count": 235,
   "metadata": {
    "scrolled": false
   },
   "outputs": [
    {
     "data": {
      "text/html": [
       "<div>\n",
       "<style scoped>\n",
       "    .dataframe tbody tr th:only-of-type {\n",
       "        vertical-align: middle;\n",
       "    }\n",
       "\n",
       "    .dataframe tbody tr th {\n",
       "        vertical-align: top;\n",
       "    }\n",
       "\n",
       "    .dataframe thead th {\n",
       "        text-align: right;\n",
       "    }\n",
       "</style>\n",
       "<table border=\"1\" class=\"dataframe\">\n",
       "  <thead>\n",
       "    <tr style=\"text-align: right;\">\n",
       "      <th></th>\n",
       "      <th>trade_id</th>\n",
       "      <th>buy/sell</th>\n",
       "      <th>notional</th>\n",
       "      <th>price</th>\n",
       "      <th>datetime</th>\n",
       "      <th>instrument</th>\n",
       "      <th>alpha</th>\n",
       "    </tr>\n",
       "  </thead>\n",
       "  <tbody>\n",
       "    <tr>\n",
       "      <th>0</th>\n",
       "      <td>107414</td>\n",
       "      <td>1</td>\n",
       "      <td>150,000</td>\n",
       "      <td>1.35724</td>\n",
       "      <td>1/7/2018 19:07:49.749</td>\n",
       "      <td>GBP/USD</td>\n",
       "      <td>SOM</td>\n",
       "    </tr>\n",
       "    <tr>\n",
       "      <th>1</th>\n",
       "      <td>107427</td>\n",
       "      <td>1</td>\n",
       "      <td>310,000</td>\n",
       "      <td>1.35725</td>\n",
       "      <td>1/7/2018 19:15:23.1523</td>\n",
       "      <td>GBP/USD</td>\n",
       "      <td>SOM</td>\n",
       "    </tr>\n",
       "    <tr>\n",
       "      <th>2</th>\n",
       "      <td>107638</td>\n",
       "      <td>-1</td>\n",
       "      <td>310,000</td>\n",
       "      <td>1.35453</td>\n",
       "      <td>1/8/2018 7:38:48.3848</td>\n",
       "      <td>GBP/USD</td>\n",
       "      <td>SOM</td>\n",
       "    </tr>\n",
       "    <tr>\n",
       "      <th>3</th>\n",
       "      <td>107649</td>\n",
       "      <td>-1</td>\n",
       "      <td>310,000</td>\n",
       "      <td>1.35371</td>\n",
       "      <td>1/8/2018 8:10:55.1055</td>\n",
       "      <td>GBP/USD</td>\n",
       "      <td>SOM</td>\n",
       "    </tr>\n",
       "    <tr>\n",
       "      <th>4</th>\n",
       "      <td>107654</td>\n",
       "      <td>-1</td>\n",
       "      <td>320,000</td>\n",
       "      <td>1.35394</td>\n",
       "      <td>1/8/2018 8:19:10.1910</td>\n",
       "      <td>GBP/USD</td>\n",
       "      <td>SOM</td>\n",
       "    </tr>\n",
       "  </tbody>\n",
       "</table>\n",
       "</div>"
      ],
      "text/plain": [
       "   trade_id  buy/sell notional    price                datetime instrument  \\\n",
       "0    107414         1  150,000  1.35724   1/7/2018 19:07:49.749    GBP/USD   \n",
       "1    107427         1  310,000  1.35725  1/7/2018 19:15:23.1523    GBP/USD   \n",
       "2    107638        -1  310,000  1.35453   1/8/2018 7:38:48.3848    GBP/USD   \n",
       "3    107649        -1  310,000  1.35371   1/8/2018 8:10:55.1055    GBP/USD   \n",
       "4    107654        -1  320,000  1.35394   1/8/2018 8:19:10.1910    GBP/USD   \n",
       "\n",
       "  alpha  \n",
       "0   SOM  \n",
       "1   SOM  \n",
       "2   SOM  \n",
       "3   SOM  \n",
       "4   SOM  "
      ]
     },
     "execution_count": 235,
     "metadata": {},
     "output_type": "execute_result"
    }
   ],
   "source": [
    "order.head()"
   ]
  },
  {
   "cell_type": "code",
   "execution_count": 236,
   "metadata": {},
   "outputs": [],
   "source": [
    "tick['DateTime'] = pd.to_datetime(tick['DateTime'], format=\"%m/%d/%Y %H:%M:%S.%f\")\n",
    "order['DateTime'] = pd.to_datetime(order['datetime'])"
   ]
  },
  {
   "cell_type": "code",
   "execution_count": 237,
   "metadata": {},
   "outputs": [],
   "source": [
    "order = order.drop(['datetime'], axis=1).set_index('DateTime')\n",
    "tick = tick.set_index('DateTime')"
   ]
  },
  {
   "cell_type": "code",
   "execution_count": 238,
   "metadata": {
    "scrolled": true
   },
   "outputs": [
    {
     "data": {
      "text/html": [
       "<div>\n",
       "<style scoped>\n",
       "    .dataframe tbody tr th:only-of-type {\n",
       "        vertical-align: middle;\n",
       "    }\n",
       "\n",
       "    .dataframe tbody tr th {\n",
       "        vertical-align: top;\n",
       "    }\n",
       "\n",
       "    .dataframe thead th {\n",
       "        text-align: right;\n",
       "    }\n",
       "</style>\n",
       "<table border=\"1\" class=\"dataframe\">\n",
       "  <thead>\n",
       "    <tr style=\"text-align: right;\">\n",
       "      <th></th>\n",
       "      <th>trade_id</th>\n",
       "      <th>buy/sell</th>\n",
       "      <th>notional</th>\n",
       "      <th>price</th>\n",
       "      <th>instrument</th>\n",
       "      <th>alpha</th>\n",
       "    </tr>\n",
       "    <tr>\n",
       "      <th>DateTime</th>\n",
       "      <th></th>\n",
       "      <th></th>\n",
       "      <th></th>\n",
       "      <th></th>\n",
       "      <th></th>\n",
       "      <th></th>\n",
       "    </tr>\n",
       "  </thead>\n",
       "  <tbody>\n",
       "    <tr>\n",
       "      <th>2018-01-07 19:07:49.749000</th>\n",
       "      <td>107414</td>\n",
       "      <td>1</td>\n",
       "      <td>150,000</td>\n",
       "      <td>1.35724</td>\n",
       "      <td>GBP/USD</td>\n",
       "      <td>SOM</td>\n",
       "    </tr>\n",
       "    <tr>\n",
       "      <th>2018-01-07 19:15:23.152300</th>\n",
       "      <td>107427</td>\n",
       "      <td>1</td>\n",
       "      <td>310,000</td>\n",
       "      <td>1.35725</td>\n",
       "      <td>GBP/USD</td>\n",
       "      <td>SOM</td>\n",
       "    </tr>\n",
       "    <tr>\n",
       "      <th>2018-01-08 07:38:48.384800</th>\n",
       "      <td>107638</td>\n",
       "      <td>-1</td>\n",
       "      <td>310,000</td>\n",
       "      <td>1.35453</td>\n",
       "      <td>GBP/USD</td>\n",
       "      <td>SOM</td>\n",
       "    </tr>\n",
       "    <tr>\n",
       "      <th>2018-01-08 08:10:55.105500</th>\n",
       "      <td>107649</td>\n",
       "      <td>-1</td>\n",
       "      <td>310,000</td>\n",
       "      <td>1.35371</td>\n",
       "      <td>GBP/USD</td>\n",
       "      <td>SOM</td>\n",
       "    </tr>\n",
       "    <tr>\n",
       "      <th>2018-01-08 08:19:10.191000</th>\n",
       "      <td>107654</td>\n",
       "      <td>-1</td>\n",
       "      <td>320,000</td>\n",
       "      <td>1.35394</td>\n",
       "      <td>GBP/USD</td>\n",
       "      <td>SOM</td>\n",
       "    </tr>\n",
       "  </tbody>\n",
       "</table>\n",
       "</div>"
      ],
      "text/plain": [
       "                            trade_id  buy/sell notional    price instrument  \\\n",
       "DateTime                                                                      \n",
       "2018-01-07 19:07:49.749000    107414         1  150,000  1.35724    GBP/USD   \n",
       "2018-01-07 19:15:23.152300    107427         1  310,000  1.35725    GBP/USD   \n",
       "2018-01-08 07:38:48.384800    107638        -1  310,000  1.35453    GBP/USD   \n",
       "2018-01-08 08:10:55.105500    107649        -1  310,000  1.35371    GBP/USD   \n",
       "2018-01-08 08:19:10.191000    107654        -1  320,000  1.35394    GBP/USD   \n",
       "\n",
       "                           alpha  \n",
       "DateTime                          \n",
       "2018-01-07 19:07:49.749000   SOM  \n",
       "2018-01-07 19:15:23.152300   SOM  \n",
       "2018-01-08 07:38:48.384800   SOM  \n",
       "2018-01-08 08:10:55.105500   SOM  \n",
       "2018-01-08 08:19:10.191000   SOM  "
      ]
     },
     "execution_count": 238,
     "metadata": {},
     "output_type": "execute_result"
    }
   ],
   "source": [
    "order.head()"
   ]
  },
  {
   "cell_type": "code",
   "execution_count": 241,
   "metadata": {},
   "outputs": [],
   "source": [
    "order = order.iloc[2:]"
   ]
  },
  {
   "cell_type": "code",
   "execution_count": 242,
   "metadata": {
    "scrolled": true
   },
   "outputs": [
    {
     "data": {
      "text/html": [
       "<div>\n",
       "<style scoped>\n",
       "    .dataframe tbody tr th:only-of-type {\n",
       "        vertical-align: middle;\n",
       "    }\n",
       "\n",
       "    .dataframe tbody tr th {\n",
       "        vertical-align: top;\n",
       "    }\n",
       "\n",
       "    .dataframe thead th {\n",
       "        text-align: right;\n",
       "    }\n",
       "</style>\n",
       "<table border=\"1\" class=\"dataframe\">\n",
       "  <thead>\n",
       "    <tr style=\"text-align: right;\">\n",
       "      <th></th>\n",
       "      <th>Bid</th>\n",
       "      <th>Ask</th>\n",
       "    </tr>\n",
       "    <tr>\n",
       "      <th>DateTime</th>\n",
       "      <th></th>\n",
       "      <th></th>\n",
       "    </tr>\n",
       "  </thead>\n",
       "  <tbody>\n",
       "    <tr>\n",
       "      <th>2018-01-07 22:02:03.832</th>\n",
       "      <td>1.35560</td>\n",
       "      <td>1.35616</td>\n",
       "    </tr>\n",
       "    <tr>\n",
       "      <th>2018-01-07 22:02:03.845</th>\n",
       "      <td>1.35560</td>\n",
       "      <td>1.35617</td>\n",
       "    </tr>\n",
       "    <tr>\n",
       "      <th>2018-01-07 22:02:03.851</th>\n",
       "      <td>1.35554</td>\n",
       "      <td>1.35617</td>\n",
       "    </tr>\n",
       "    <tr>\n",
       "      <th>2018-01-07 22:02:03.859</th>\n",
       "      <td>1.35554</td>\n",
       "      <td>1.35618</td>\n",
       "    </tr>\n",
       "    <tr>\n",
       "      <th>2018-01-07 22:02:04.114</th>\n",
       "      <td>1.35554</td>\n",
       "      <td>1.35619</td>\n",
       "    </tr>\n",
       "  </tbody>\n",
       "</table>\n",
       "</div>"
      ],
      "text/plain": [
       "                             Bid      Ask\n",
       "DateTime                                 \n",
       "2018-01-07 22:02:03.832  1.35560  1.35616\n",
       "2018-01-07 22:02:03.845  1.35560  1.35617\n",
       "2018-01-07 22:02:03.851  1.35554  1.35617\n",
       "2018-01-07 22:02:03.859  1.35554  1.35618\n",
       "2018-01-07 22:02:04.114  1.35554  1.35619"
      ]
     },
     "execution_count": 242,
     "metadata": {},
     "output_type": "execute_result"
    }
   ],
   "source": [
    "tick.head() "
   ]
  },
  {
   "cell_type": "markdown",
   "metadata": {},
   "source": [
    "# Market Taking"
   ]
  },
  {
   "cell_type": "code",
   "execution_count": 197,
   "metadata": {},
   "outputs": [],
   "source": [
    "def MT(order, tick):\n",
    "    PnL_df = pd.DataFrame(index=order.index)\n",
    "    \n",
    "    for i in order.index:\n",
    "        nearest_row_num = tick.index.get_loc(i, method='backfill') ## find nearest by DateTime\n",
    "        nearest = tick.iloc[nearest_row_num] ## nearest fulfilled bid/ask price\n",
    "        PnL = (nearest[0] - nearest[1])*1/2\n",
    "        time = tick.index[nearest_row_num] ## time of fulfilled trade\n",
    "        \n",
    "        PnL_df.loc[i, 'MT PnL'] = PnL\n",
    "        PnL_df.loc[i, 'MT Executed Time'] = time\n",
    "        \n",
    "    return PnL_df"
   ]
  },
  {
   "cell_type": "code",
   "execution_count": 198,
   "metadata": {},
   "outputs": [],
   "source": [
    "MT_PnL = MT(order, tick)"
   ]
  },
  {
   "cell_type": "code",
   "execution_count": 199,
   "metadata": {
    "scrolled": true
   },
   "outputs": [
    {
     "data": {
      "text/html": [
       "<div>\n",
       "<style scoped>\n",
       "    .dataframe tbody tr th:only-of-type {\n",
       "        vertical-align: middle;\n",
       "    }\n",
       "\n",
       "    .dataframe tbody tr th {\n",
       "        vertical-align: top;\n",
       "    }\n",
       "\n",
       "    .dataframe thead th {\n",
       "        text-align: right;\n",
       "    }\n",
       "</style>\n",
       "<table border=\"1\" class=\"dataframe\">\n",
       "  <thead>\n",
       "    <tr style=\"text-align: right;\">\n",
       "      <th></th>\n",
       "      <th>MT PnL</th>\n",
       "      <th>MT Executed Time</th>\n",
       "    </tr>\n",
       "    <tr>\n",
       "      <th>DateTime</th>\n",
       "      <th></th>\n",
       "      <th></th>\n",
       "    </tr>\n",
       "  </thead>\n",
       "  <tbody>\n",
       "    <tr>\n",
       "      <th>2018-01-07 19:07:49.749000</th>\n",
       "      <td>-0.000280</td>\n",
       "      <td>2018-01-07 22:02:03.832</td>\n",
       "    </tr>\n",
       "    <tr>\n",
       "      <th>2018-01-07 19:15:23.152300</th>\n",
       "      <td>-0.000280</td>\n",
       "      <td>2018-01-07 22:02:03.832</td>\n",
       "    </tr>\n",
       "    <tr>\n",
       "      <th>2018-01-08 07:38:48.384800</th>\n",
       "      <td>-0.000010</td>\n",
       "      <td>2018-01-08 07:38:49.708</td>\n",
       "    </tr>\n",
       "    <tr>\n",
       "      <th>2018-01-08 08:10:55.105500</th>\n",
       "      <td>-0.000020</td>\n",
       "      <td>2018-01-08 08:10:55.233</td>\n",
       "    </tr>\n",
       "    <tr>\n",
       "      <th>2018-01-08 08:19:10.191000</th>\n",
       "      <td>-0.000015</td>\n",
       "      <td>2018-01-08 08:19:10.599</td>\n",
       "    </tr>\n",
       "  </tbody>\n",
       "</table>\n",
       "</div>"
      ],
      "text/plain": [
       "                              MT PnL        MT Executed Time\n",
       "DateTime                                                    \n",
       "2018-01-07 19:07:49.749000 -0.000280 2018-01-07 22:02:03.832\n",
       "2018-01-07 19:15:23.152300 -0.000280 2018-01-07 22:02:03.832\n",
       "2018-01-08 07:38:48.384800 -0.000010 2018-01-08 07:38:49.708\n",
       "2018-01-08 08:10:55.105500 -0.000020 2018-01-08 08:10:55.233\n",
       "2018-01-08 08:19:10.191000 -0.000015 2018-01-08 08:19:10.599"
      ]
     },
     "execution_count": 199,
     "metadata": {},
     "output_type": "execute_result"
    }
   ],
   "source": [
    "MT_PnL.head()"
   ]
  },
  {
   "cell_type": "markdown",
   "metadata": {},
   "source": [
    "# Opportunistic Market Making"
   ]
  },
  {
   "cell_type": "markdown",
   "metadata": {},
   "source": [
    "## OMMMid"
   ]
  },
  {
   "cell_type": "code",
   "execution_count": 229,
   "metadata": {
    "scrolled": false
   },
   "outputs": [
    {
     "data": {
      "text/html": [
       "<div>\n",
       "<style scoped>\n",
       "    .dataframe tbody tr th:only-of-type {\n",
       "        vertical-align: middle;\n",
       "    }\n",
       "\n",
       "    .dataframe tbody tr th {\n",
       "        vertical-align: top;\n",
       "    }\n",
       "\n",
       "    .dataframe thead th {\n",
       "        text-align: right;\n",
       "    }\n",
       "</style>\n",
       "<table border=\"1\" class=\"dataframe\">\n",
       "  <thead>\n",
       "    <tr style=\"text-align: right;\">\n",
       "      <th></th>\n",
       "      <th>Bid</th>\n",
       "      <th>Ask</th>\n",
       "    </tr>\n",
       "    <tr>\n",
       "      <th>DateTime</th>\n",
       "      <th></th>\n",
       "      <th></th>\n",
       "    </tr>\n",
       "  </thead>\n",
       "  <tbody>\n",
       "    <tr>\n",
       "      <th>2018-01-07 22:02:03.832</th>\n",
       "      <td>1.35560</td>\n",
       "      <td>1.35616</td>\n",
       "    </tr>\n",
       "    <tr>\n",
       "      <th>2018-01-07 22:02:03.845</th>\n",
       "      <td>1.35560</td>\n",
       "      <td>1.35617</td>\n",
       "    </tr>\n",
       "    <tr>\n",
       "      <th>2018-01-07 22:02:03.851</th>\n",
       "      <td>1.35554</td>\n",
       "      <td>1.35617</td>\n",
       "    </tr>\n",
       "    <tr>\n",
       "      <th>2018-01-07 22:02:03.859</th>\n",
       "      <td>1.35554</td>\n",
       "      <td>1.35618</td>\n",
       "    </tr>\n",
       "    <tr>\n",
       "      <th>2018-01-07 22:02:04.114</th>\n",
       "      <td>1.35554</td>\n",
       "      <td>1.35619</td>\n",
       "    </tr>\n",
       "  </tbody>\n",
       "</table>\n",
       "</div>"
      ],
      "text/plain": [
       "                             Bid      Ask\n",
       "DateTime                                 \n",
       "2018-01-07 22:02:03.832  1.35560  1.35616\n",
       "2018-01-07 22:02:03.845  1.35560  1.35617\n",
       "2018-01-07 22:02:03.851  1.35554  1.35617\n",
       "2018-01-07 22:02:03.859  1.35554  1.35618\n",
       "2018-01-07 22:02:04.114  1.35554  1.35619"
      ]
     },
     "execution_count": 229,
     "metadata": {},
     "output_type": "execute_result"
    }
   ],
   "source": [
    "tick.head()"
   ]
  },
  {
   "cell_type": "code",
   "execution_count": 230,
   "metadata": {},
   "outputs": [],
   "source": [
    "order = order.iloc[2:]"
   ]
  },
  {
   "cell_type": "code",
   "execution_count": 231,
   "metadata": {
    "scrolled": false
   },
   "outputs": [
    {
     "data": {
      "text/html": [
       "<div>\n",
       "<style scoped>\n",
       "    .dataframe tbody tr th:only-of-type {\n",
       "        vertical-align: middle;\n",
       "    }\n",
       "\n",
       "    .dataframe tbody tr th {\n",
       "        vertical-align: top;\n",
       "    }\n",
       "\n",
       "    .dataframe thead th {\n",
       "        text-align: right;\n",
       "    }\n",
       "</style>\n",
       "<table border=\"1\" class=\"dataframe\">\n",
       "  <thead>\n",
       "    <tr style=\"text-align: right;\">\n",
       "      <th></th>\n",
       "      <th>trade_id</th>\n",
       "      <th>buy/sell</th>\n",
       "      <th>notional</th>\n",
       "      <th>price</th>\n",
       "      <th>instrument</th>\n",
       "      <th>alpha</th>\n",
       "    </tr>\n",
       "    <tr>\n",
       "      <th>DateTime</th>\n",
       "      <th></th>\n",
       "      <th></th>\n",
       "      <th></th>\n",
       "      <th></th>\n",
       "      <th></th>\n",
       "      <th></th>\n",
       "    </tr>\n",
       "  </thead>\n",
       "  <tbody>\n",
       "    <tr>\n",
       "      <th>2018-01-08 08:34:40.344000</th>\n",
       "      <td>107670</td>\n",
       "      <td>-1</td>\n",
       "      <td>490,000</td>\n",
       "      <td>1.35423</td>\n",
       "      <td>GBP/USD</td>\n",
       "      <td>SOM</td>\n",
       "    </tr>\n",
       "    <tr>\n",
       "      <th>2018-01-08 11:25:13.251300</th>\n",
       "      <td>107726</td>\n",
       "      <td>1</td>\n",
       "      <td>200,000</td>\n",
       "      <td>1.35716</td>\n",
       "      <td>GBP/USD</td>\n",
       "      <td>SOM</td>\n",
       "    </tr>\n",
       "    <tr>\n",
       "      <th>2018-01-08 11:42:08.428000</th>\n",
       "      <td>107733</td>\n",
       "      <td>1</td>\n",
       "      <td>310,000</td>\n",
       "      <td>1.35693</td>\n",
       "      <td>GBP/USD</td>\n",
       "      <td>SOM</td>\n",
       "    </tr>\n",
       "    <tr>\n",
       "      <th>2018-01-08 12:15:34.153400</th>\n",
       "      <td>107737</td>\n",
       "      <td>1</td>\n",
       "      <td>310,000</td>\n",
       "      <td>1.35676</td>\n",
       "      <td>GBP/USD</td>\n",
       "      <td>SOM</td>\n",
       "    </tr>\n",
       "    <tr>\n",
       "      <th>2018-01-08 12:15:35.153500</th>\n",
       "      <td>107738</td>\n",
       "      <td>1</td>\n",
       "      <td>310,000</td>\n",
       "      <td>1.35677</td>\n",
       "      <td>GBP/USD</td>\n",
       "      <td>SOM</td>\n",
       "    </tr>\n",
       "  </tbody>\n",
       "</table>\n",
       "</div>"
      ],
      "text/plain": [
       "                            trade_id  buy/sell notional    price instrument  \\\n",
       "DateTime                                                                      \n",
       "2018-01-08 08:34:40.344000    107670        -1  490,000  1.35423    GBP/USD   \n",
       "2018-01-08 11:25:13.251300    107726         1  200,000  1.35716    GBP/USD   \n",
       "2018-01-08 11:42:08.428000    107733         1  310,000  1.35693    GBP/USD   \n",
       "2018-01-08 12:15:34.153400    107737         1  310,000  1.35676    GBP/USD   \n",
       "2018-01-08 12:15:35.153500    107738         1  310,000  1.35677    GBP/USD   \n",
       "\n",
       "                           alpha  \n",
       "DateTime                          \n",
       "2018-01-08 08:34:40.344000   SOM  \n",
       "2018-01-08 11:25:13.251300   SOM  \n",
       "2018-01-08 11:42:08.428000   SOM  \n",
       "2018-01-08 12:15:34.153400   SOM  \n",
       "2018-01-08 12:15:35.153500   SOM  "
      ]
     },
     "execution_count": 231,
     "metadata": {},
     "output_type": "execute_result"
    }
   ],
   "source": [
    "order.head()"
   ]
  },
  {
   "cell_type": "code",
   "execution_count": 253,
   "metadata": {},
   "outputs": [],
   "source": [
    "## Max Time to Execute\n",
    "from datetime import timedelta\n",
    "TTE = timedelta(seconds=10)\n",
    "## Max Stop Loss\n",
    "SL = 0.00003"
   ]
  },
  {
   "cell_type": "code",
   "execution_count": 254,
   "metadata": {},
   "outputs": [],
   "source": [
    "SL = 0.00003"
   ]
  },
  {
   "cell_type": "code",
   "execution_count": 222,
   "metadata": {
    "scrolled": true
   },
   "outputs": [
    {
     "data": {
      "text/plain": [
       "datetime.timedelta(0, 10)"
      ]
     },
     "execution_count": 222,
     "metadata": {},
     "output_type": "execute_result"
    }
   ],
   "source": [
    "TTE"
   ]
  },
  {
   "cell_type": "code",
   "execution_count": 146,
   "metadata": {
    "scrolled": true
   },
   "outputs": [
    {
     "data": {
      "text/plain": [
       "3e-05"
      ]
     },
     "execution_count": 146,
     "metadata": {},
     "output_type": "execute_result"
    }
   ],
   "source": [
    "SL"
   ]
  },
  {
   "cell_type": "code",
   "execution_count": 147,
   "metadata": {
    "scrolled": true
   },
   "outputs": [
    {
     "data": {
      "text/plain": [
       "Timestamp('2018-01-08 07:38:48.384800')"
      ]
     },
     "execution_count": 147,
     "metadata": {},
     "output_type": "execute_result"
    }
   ],
   "source": [
    "order.index[0]"
   ]
  },
  {
   "cell_type": "code",
   "execution_count": 148,
   "metadata": {},
   "outputs": [
    {
     "data": {
      "text/plain": [
       "Timestamp('2018-01-08 07:38:58.384800')"
      ]
     },
     "execution_count": 148,
     "metadata": {},
     "output_type": "execute_result"
    }
   ],
   "source": [
    "order.index[0] + timedelta(seconds=10)"
   ]
  },
  {
   "cell_type": "code",
   "execution_count": 149,
   "metadata": {
    "scrolled": true
   },
   "outputs": [
    {
     "data": {
      "text/plain": [
       "Timestamp('2018-01-08 07:38:38.384800')"
      ]
     },
     "execution_count": 149,
     "metadata": {},
     "output_type": "execute_result"
    }
   ],
   "source": [
    "order.index[0] - timedelta(seconds=10)"
   ]
  },
  {
   "cell_type": "code",
   "execution_count": 55,
   "metadata": {},
   "outputs": [
    {
     "data": {
      "text/plain": [
       "Timestamp('2018-01-10 05:38:25')"
      ]
     },
     "execution_count": 55,
     "metadata": {},
     "output_type": "execute_result"
    }
   ],
   "source": [
    "i = order.index[100]\n",
    "i"
   ]
  },
  {
   "cell_type": "code",
   "execution_count": 153,
   "metadata": {
    "scrolled": true
   },
   "outputs": [
    {
     "data": {
      "text/plain": [
       "513118"
      ]
     },
     "execution_count": 153,
     "metadata": {},
     "output_type": "execute_result"
    }
   ],
   "source": [
    "nearest_row_num = tick.index.get_loc(i, method='pad')\n",
    "nearest_row_num"
   ]
  },
  {
   "cell_type": "code",
   "execution_count": 154,
   "metadata": {
    "scrolled": false
   },
   "outputs": [
    {
     "data": {
      "text/plain": [
       "Bid    1.35311\n",
       "Ask    1.35314\n",
       "Name: 2018-01-10 05:38:24.398000, dtype: float64"
      ]
     },
     "execution_count": 154,
     "metadata": {},
     "output_type": "execute_result"
    }
   ],
   "source": [
    "nearest = tick.iloc[nearest_row_num]\n",
    "nearest"
   ]
  },
  {
   "cell_type": "code",
   "execution_count": 152,
   "metadata": {
    "scrolled": true
   },
   "outputs": [
    {
     "data": {
      "text/plain": [
       "1.3531300000000002"
      ]
     },
     "execution_count": 152,
     "metadata": {},
     "output_type": "execute_result"
    }
   ],
   "source": [
    "mid = (nearest[0] + nearest[1])/2\n",
    "mid"
   ]
  },
  {
   "cell_type": "code",
   "execution_count": 155,
   "metadata": {},
   "outputs": [],
   "source": [
    "tick['buy loss'] = tick['Ask'] - mid\n",
    "tick['sell loss'] = mid - tick['Bid'] "
   ]
  },
  {
   "cell_type": "code",
   "execution_count": 156,
   "metadata": {
    "scrolled": false
   },
   "outputs": [
    {
     "data": {
      "text/html": [
       "<div>\n",
       "<style scoped>\n",
       "    .dataframe tbody tr th:only-of-type {\n",
       "        vertical-align: middle;\n",
       "    }\n",
       "\n",
       "    .dataframe tbody tr th {\n",
       "        vertical-align: top;\n",
       "    }\n",
       "\n",
       "    .dataframe thead th {\n",
       "        text-align: right;\n",
       "    }\n",
       "</style>\n",
       "<table border=\"1\" class=\"dataframe\">\n",
       "  <thead>\n",
       "    <tr style=\"text-align: right;\">\n",
       "      <th></th>\n",
       "      <th>Bid</th>\n",
       "      <th>Ask</th>\n",
       "      <th>buy loss</th>\n",
       "      <th>sell loss</th>\n",
       "    </tr>\n",
       "    <tr>\n",
       "      <th>DateTime</th>\n",
       "      <th></th>\n",
       "      <th></th>\n",
       "      <th></th>\n",
       "      <th></th>\n",
       "    </tr>\n",
       "  </thead>\n",
       "  <tbody>\n",
       "    <tr>\n",
       "      <th>2018-01-07 22:02:03.832</th>\n",
       "      <td>1.35560</td>\n",
       "      <td>1.35616</td>\n",
       "      <td>0.00303</td>\n",
       "      <td>-0.00247</td>\n",
       "    </tr>\n",
       "    <tr>\n",
       "      <th>2018-01-07 22:02:03.845</th>\n",
       "      <td>1.35560</td>\n",
       "      <td>1.35617</td>\n",
       "      <td>0.00304</td>\n",
       "      <td>-0.00247</td>\n",
       "    </tr>\n",
       "    <tr>\n",
       "      <th>2018-01-07 22:02:03.851</th>\n",
       "      <td>1.35554</td>\n",
       "      <td>1.35617</td>\n",
       "      <td>0.00304</td>\n",
       "      <td>-0.00241</td>\n",
       "    </tr>\n",
       "    <tr>\n",
       "      <th>2018-01-07 22:02:03.859</th>\n",
       "      <td>1.35554</td>\n",
       "      <td>1.35618</td>\n",
       "      <td>0.00305</td>\n",
       "      <td>-0.00241</td>\n",
       "    </tr>\n",
       "    <tr>\n",
       "      <th>2018-01-07 22:02:04.114</th>\n",
       "      <td>1.35554</td>\n",
       "      <td>1.35619</td>\n",
       "      <td>0.00306</td>\n",
       "      <td>-0.00241</td>\n",
       "    </tr>\n",
       "  </tbody>\n",
       "</table>\n",
       "</div>"
      ],
      "text/plain": [
       "                             Bid      Ask  buy loss  sell loss\n",
       "DateTime                                                      \n",
       "2018-01-07 22:02:03.832  1.35560  1.35616   0.00303   -0.00247\n",
       "2018-01-07 22:02:03.845  1.35560  1.35617   0.00304   -0.00247\n",
       "2018-01-07 22:02:03.851  1.35554  1.35617   0.00304   -0.00241\n",
       "2018-01-07 22:02:03.859  1.35554  1.35618   0.00305   -0.00241\n",
       "2018-01-07 22:02:04.114  1.35554  1.35619   0.00306   -0.00241"
      ]
     },
     "execution_count": 156,
     "metadata": {},
     "output_type": "execute_result"
    }
   ],
   "source": [
    "tick.head()"
   ]
  },
  {
   "cell_type": "code",
   "execution_count": 158,
   "metadata": {},
   "outputs": [
    {
     "data": {
      "text/plain": [
       "Timestamp('2018-01-10 05:38:25')"
      ]
     },
     "execution_count": 158,
     "metadata": {},
     "output_type": "execute_result"
    }
   ],
   "source": [
    "order_time = i\n",
    "order_time"
   ]
  },
  {
   "cell_type": "code",
   "execution_count": 159,
   "metadata": {
    "scrolled": true
   },
   "outputs": [
    {
     "data": {
      "text/plain": [
       "Timestamp('2018-01-10 05:38:55')"
      ]
     },
     "execution_count": 159,
     "metadata": {},
     "output_type": "execute_result"
    }
   ],
   "source": [
    "end_time = order_time + TTE\n",
    "end_time"
   ]
  },
  {
   "cell_type": "code",
   "execution_count": 160,
   "metadata": {},
   "outputs": [
    {
     "data": {
      "text/plain": [
       "Timestamp('2018-01-10 05:38:55.045000')"
      ]
     },
     "execution_count": 160,
     "metadata": {},
     "output_type": "execute_result"
    }
   ],
   "source": [
    "TTE_time = tick.index[tick.index.get_loc(end_time, method='backfill')]\n",
    "TTE_time"
   ]
  },
  {
   "cell_type": "code",
   "execution_count": 164,
   "metadata": {
    "scrolled": true
   },
   "outputs": [
    {
     "data": {
      "text/plain": [
       "Timestamp('2018-01-10 05:38:25.153000')"
      ]
     },
     "execution_count": 164,
     "metadata": {},
     "output_type": "execute_result"
    }
   ],
   "source": [
    "near_order_time = (tick.iloc[tick.index.get_loc(order_time, method='backfill')]).name\n",
    "near_order_time"
   ]
  },
  {
   "cell_type": "code",
   "execution_count": 163,
   "metadata": {},
   "outputs": [
    {
     "data": {
      "text/plain": [
       "Timestamp('2018-01-10 05:38:33.080000')"
      ]
     },
     "execution_count": 163,
     "metadata": {},
     "output_type": "execute_result"
    }
   ],
   "source": [
    "SL_time = (tick.loc[near_order_time:])[(tick.loc[near_order_time:])['buy loss']>SL].index[0]\n",
    "SL_time"
   ]
  },
  {
   "cell_type": "code",
   "execution_count": 165,
   "metadata": {},
   "outputs": [
    {
     "data": {
      "text/plain": [
       "Timestamp('2018-01-10 05:38:55.690000')"
      ]
     },
     "execution_count": 165,
     "metadata": {},
     "output_type": "execute_result"
    }
   ],
   "source": [
    "mid_time = (tick.loc[near_order_time:])[(tick.loc[near_order_time:])['Ask']<=mid].index[0]\n",
    "mid_time"
   ]
  },
  {
   "cell_type": "code",
   "execution_count": 66,
   "metadata": {
    "scrolled": false
   },
   "outputs": [
    {
     "data": {
      "text/plain": [
       "Timestamp('2018-01-10 05:38:25.153000')"
      ]
     },
     "metadata": {},
     "output_type": "display_data"
    },
    {
     "data": {
      "text/plain": [
       "Timestamp('2018-01-10 05:38:55.690000')"
      ]
     },
     "metadata": {},
     "output_type": "display_data"
    },
    {
     "data": {
      "text/plain": [
       "Timestamp('2018-01-10 05:38:33.080000')"
      ]
     },
     "metadata": {},
     "output_type": "display_data"
    },
    {
     "data": {
      "text/plain": [
       "Timestamp('2018-01-10 05:38:35.126000')"
      ]
     },
     "metadata": {},
     "output_type": "display_data"
    }
   ],
   "source": [
    "display(start_time, mid_time, SL_time, TTE_time)"
   ]
  },
  {
   "cell_type": "code",
   "execution_count": 166,
   "metadata": {},
   "outputs": [
    {
     "data": {
      "text/plain": [
       "Timestamp('2018-01-10 05:38:55.690000')"
      ]
     },
     "execution_count": 166,
     "metadata": {},
     "output_type": "execute_result"
    }
   ],
   "source": [
    "trade_time = max(mid_time, SL_time, TTE_time)\n",
    "trade_time"
   ]
  },
  {
   "cell_type": "code",
   "execution_count": 167,
   "metadata": {
    "scrolled": true
   },
   "outputs": [
    {
     "data": {
      "text/plain": [
       "2.220446049250313e-16"
      ]
     },
     "execution_count": 167,
     "metadata": {},
     "output_type": "execute_result"
    }
   ],
   "source": [
    "PnL = mid - tick.loc[trade_time, 'Ask']\n",
    "PnL"
   ]
  },
  {
   "cell_type": "code",
   "execution_count": 128,
   "metadata": {
    "scrolled": true
   },
   "outputs": [
    {
     "data": {
      "text/plain": [
       "Timestamp('2018-01-10 05:38:25.153000')"
      ]
     },
     "execution_count": 128,
     "metadata": {},
     "output_type": "execute_result"
    }
   ],
   "source": [
    "(tick.iloc[tick.index.get_loc(start_time, method='backfill')]).name\n"
   ]
  },
  {
   "cell_type": "code",
   "execution_count": 132,
   "metadata": {
    "scrolled": true
   },
   "outputs": [
    {
     "data": {
      "text/plain": [
       "DatetimeIndex(['2018-01-08 07:38:48.384800', '2018-01-08 08:10:55.105500',\n",
       "               '2018-01-08 08:19:10.191000', '2018-01-08 08:23:16.231600',\n",
       "               '2018-01-08 08:34:40.344000', '2018-01-08 11:25:13.251300',\n",
       "               '2018-01-08 11:42:08.428000', '2018-01-08 12:15:34.153400',\n",
       "               '2018-01-08 12:15:35.153500', '2018-01-08 12:20:20.202000',\n",
       "               ...\n",
       "               '2018-01-12 13:04:03.430000', '2018-01-12 14:06:24.624000',\n",
       "               '2018-01-12 14:33:14.331400', '2018-01-12 15:02:01.210000',\n",
       "               '2018-01-12 15:17:02.172000', '2018-01-12 15:32:12.321200',\n",
       "               '2018-01-12 16:03:23.323000', '2018-01-12 16:03:24.324000',\n",
       "               '2018-01-12 16:18:07.187000', '2018-01-12 16:33:22.332200'],\n",
       "              dtype='datetime64[ns]', name='DateTime', length=367, freq=None)"
      ]
     },
     "execution_count": 132,
     "metadata": {},
     "output_type": "execute_result"
    }
   ],
   "source": [
    "order.index[2:]"
   ]
  },
  {
   "cell_type": "code",
   "execution_count": 136,
   "metadata": {
    "scrolled": true
   },
   "outputs": [
    {
     "data": {
      "text/plain": [
       "513118"
      ]
     },
     "execution_count": 136,
     "metadata": {},
     "output_type": "execute_result"
    }
   ],
   "source": [
    "nearest_row_num = tick.index.get_loc(i, method='pad')\n",
    "nearest_row_num"
   ]
  },
  {
   "cell_type": "code",
   "execution_count": 246,
   "metadata": {},
   "outputs": [],
   "source": [
    "def OMMMid(order, tick, SL, TTE):\n",
    "    PnL_df = pd.DataFrame(index=order.index)\n",
    "    \n",
    "    max_time = tick.index[-1]+timedelta(days=1)\n",
    "        \n",
    "    for i in order.index:\n",
    "        nearest_row_num = tick.index.get_loc(i, method='pad')\n",
    "        nearest = tick.iloc[nearest_row_num]\n",
    "        mid = (nearest[0] + nearest[1])/2\n",
    "        \n",
    "#         start_time = tick.index[nearest_row_num]\n",
    "        order_time = i\n",
    "        end_time = order_time + TTE\n",
    "        TTE_time = tick.index[tick.index.get_loc(end_time, method='backfill')]\n",
    "        \n",
    "        near_order_time = (tick.iloc[tick.index.get_loc(order_time, method='backfill')]).name\n",
    "        \n",
    "        if order.loc[i,'buy/sell']==1:\n",
    "            try: SL_time = (tick.loc[near_order_time:])[(tick.loc[near_order_time:])['buy loss']>=SL].index[0]\n",
    "            except: SL_time = max_time\n",
    "            try: mid_time = (tick.loc[near_order_time:])[(tick.loc[near_order_time:])['Ask']<=mid].index[0]\n",
    "            except: mid_time = max_time\n",
    "            trade_time = min(mid_time, SL_time, TTE_time)\n",
    "        \n",
    "            PnL = mid - tick.loc[trade_time, 'Ask']\n",
    "        elif order.loc[i,'buy/sell']==-1:\n",
    "            try: SL_time = (tick.loc[near_order_time:])[(tick.loc[near_order_time:])['sell loss']>=SL].index[0]\n",
    "            except: SL_time = max_time\n",
    "            try: mid_time = (tick.loc[near_order_time:])[(tick.loc[near_order_time:])['Bid']>=mid].index[0]\n",
    "            except: mid_time = max_time\n",
    "            trade_time = min(mid_time, SL_time, TTE_time)\n",
    "        \n",
    "            PnL = tick.loc[trade_time, 'Bid'] - mid\n",
    "        \n",
    "        if trade_time == TTE_time: trigger = 'TTE'\n",
    "        elif trade_time == SL_time: trigger = 'SL'\n",
    "        else: trigger = 'Else'\n",
    "        \n",
    "        PnL_df.loc[i, 'OMMMid PnL'] = PnL\n",
    "        PnL_df.loc[i, 'OMMMid Time to Execute'] = trade_time - order_time\n",
    "        PnL_df.loc[i, 'OMMMid Trigger'] = trigger\n",
    "    \n",
    "    return PnL_df"
   ]
  },
  {
   "cell_type": "code",
   "execution_count": 247,
   "metadata": {
    "scrolled": false
   },
   "outputs": [],
   "source": [
    "OMMMid_PnL = OMMMid(order, tick, SL, TTE)"
   ]
  },
  {
   "cell_type": "code",
   "execution_count": 252,
   "metadata": {
    "scrolled": false
   },
   "outputs": [
    {
     "data": {
      "text/html": [
       "<div>\n",
       "<style scoped>\n",
       "    .dataframe tbody tr th:only-of-type {\n",
       "        vertical-align: middle;\n",
       "    }\n",
       "\n",
       "    .dataframe tbody tr th {\n",
       "        vertical-align: top;\n",
       "    }\n",
       "\n",
       "    .dataframe thead th {\n",
       "        text-align: right;\n",
       "    }\n",
       "</style>\n",
       "<table border=\"1\" class=\"dataframe\">\n",
       "  <thead>\n",
       "    <tr style=\"text-align: right;\">\n",
       "      <th></th>\n",
       "      <th>OMMMid PnL</th>\n",
       "      <th>OMMMid Time to Execute</th>\n",
       "      <th>OMMMid Trigger</th>\n",
       "    </tr>\n",
       "    <tr>\n",
       "      <th>DateTime</th>\n",
       "      <th></th>\n",
       "      <th></th>\n",
       "      <th></th>\n",
       "    </tr>\n",
       "  </thead>\n",
       "  <tbody>\n",
       "    <tr>\n",
       "      <th>2018-01-08 07:38:48.384800</th>\n",
       "      <td>1.500000e-05</td>\n",
       "      <td>00:00:02.022200</td>\n",
       "      <td>Else</td>\n",
       "    </tr>\n",
       "    <tr>\n",
       "      <th>2018-01-08 08:10:55.105500</th>\n",
       "      <td>5.000000e-06</td>\n",
       "      <td>00:00:00.694500</td>\n",
       "      <td>Else</td>\n",
       "    </tr>\n",
       "    <tr>\n",
       "      <th>2018-01-08 08:19:10.191000</th>\n",
       "      <td>-9.000000e-05</td>\n",
       "      <td>00:00:10.214000</td>\n",
       "      <td>TTE</td>\n",
       "    </tr>\n",
       "    <tr>\n",
       "      <th>2018-01-08 08:23:16.231600</th>\n",
       "      <td>-1.500000e-05</td>\n",
       "      <td>00:00:13.521400</td>\n",
       "      <td>TTE</td>\n",
       "    </tr>\n",
       "    <tr>\n",
       "      <th>2018-01-08 08:34:40.344000</th>\n",
       "      <td>2.220446e-16</td>\n",
       "      <td>00:00:00.477000</td>\n",
       "      <td>Else</td>\n",
       "    </tr>\n",
       "    <tr>\n",
       "      <th>2018-01-08 11:25:13.251300</th>\n",
       "      <td>-5.500000e-05</td>\n",
       "      <td>00:00:10.142700</td>\n",
       "      <td>TTE</td>\n",
       "    </tr>\n",
       "    <tr>\n",
       "      <th>2018-01-08 11:42:08.428000</th>\n",
       "      <td>-7.000000e-05</td>\n",
       "      <td>00:00:10.446000</td>\n",
       "      <td>TTE</td>\n",
       "    </tr>\n",
       "    <tr>\n",
       "      <th>2018-01-08 12:15:34.153400</th>\n",
       "      <td>1.000000e-05</td>\n",
       "      <td>00:00:04.111600</td>\n",
       "      <td>Else</td>\n",
       "    </tr>\n",
       "    <tr>\n",
       "      <th>2018-01-08 12:15:35.153500</th>\n",
       "      <td>1.000000e-05</td>\n",
       "      <td>00:00:03.111500</td>\n",
       "      <td>Else</td>\n",
       "    </tr>\n",
       "    <tr>\n",
       "      <th>2018-01-08 12:20:20.202000</th>\n",
       "      <td>5.000000e-06</td>\n",
       "      <td>00:00:00.500000</td>\n",
       "      <td>Else</td>\n",
       "    </tr>\n",
       "  </tbody>\n",
       "</table>\n",
       "</div>"
      ],
      "text/plain": [
       "                              OMMMid PnL OMMMid Time to Execute OMMMid Trigger\n",
       "DateTime                                                                      \n",
       "2018-01-08 07:38:48.384800  1.500000e-05        00:00:02.022200           Else\n",
       "2018-01-08 08:10:55.105500  5.000000e-06        00:00:00.694500           Else\n",
       "2018-01-08 08:19:10.191000 -9.000000e-05        00:00:10.214000            TTE\n",
       "2018-01-08 08:23:16.231600 -1.500000e-05        00:00:13.521400            TTE\n",
       "2018-01-08 08:34:40.344000  2.220446e-16        00:00:00.477000           Else\n",
       "2018-01-08 11:25:13.251300 -5.500000e-05        00:00:10.142700            TTE\n",
       "2018-01-08 11:42:08.428000 -7.000000e-05        00:00:10.446000            TTE\n",
       "2018-01-08 12:15:34.153400  1.000000e-05        00:00:04.111600           Else\n",
       "2018-01-08 12:15:35.153500  1.000000e-05        00:00:03.111500           Else\n",
       "2018-01-08 12:20:20.202000  5.000000e-06        00:00:00.500000           Else"
      ]
     },
     "execution_count": 252,
     "metadata": {},
     "output_type": "execute_result"
    }
   ],
   "source": [
    "OMMMid_PnL.head(10)"
   ]
  },
  {
   "cell_type": "markdown",
   "metadata": {},
   "source": [
    "## OMMSide"
   ]
  },
  {
   "cell_type": "code",
   "execution_count": 255,
   "metadata": {},
   "outputs": [],
   "source": [
    "def OMMSide(order, tick, SL, TTE):\n",
    "    PnL_df = pd.DataFrame(index=order.index)\n",
    "    \n",
    "    max_time = tick.index[-1]+timedelta(days=1)\n",
    "    \n",
    "    for i in order.index:\n",
    "        nearest_row_num = tick.index.get_loc(i, method='backfill')\n",
    "        nearest = tick.iloc[nearest_row_num]\n",
    "        mid = (nearest[0] + nearest[1])/2\n",
    "        buy = nearest[0] ## Bid\n",
    "        sell = nearest[1] ## Ask\n",
    "        \n",
    "        order_time = i\n",
    "        end_time = order_time + TTE\n",
    "        TTE_time = tick.index[tick.index.get_loc(end_time, method='backfill')]\n",
    "\n",
    "        near_order_time = (tick.iloc[tick.index.get_loc(order_time, method='backfill')]).name\n",
    "        \n",
    "        if order.loc[i,'buy/sell']==1:\n",
    "            try: SL_time = (tick.loc[near_order_time:])[(tick.loc[near_order_time:])['buy loss']>=SL].index[0]\n",
    "            except: SL_time = max_time\n",
    "            try: buy_time = (tick.loc[near_order_time:])[(tick.loc[near_order_time:])['Ask']<=buy].index[0]\n",
    "            except: buy_time = max_time\n",
    "            trade_time = min(buy_time, SL_time, TTE_time)\n",
    "        \n",
    "            PnL = mid - tick.loc[trade_time, 'Ask']\n",
    "        elif order.loc[i,'buy/sell']==-1:\n",
    "            try: SL_time = (tick.loc[near_order_time:])[(tick.loc[near_order_time:])['sell loss']>=SL].index[0]\n",
    "            except: SL_time = max_time\n",
    "            try: sell_time = (tick.loc[near_order_time:])[(tick.loc[near_order_time:])['Bid']>=sell].index[0]\n",
    "            except: sell_time = max_time\n",
    "            trade_time = min(sell_time, SL_time, TTE_time)\n",
    "        \n",
    "            PnL = tick.loc[trade_time, 'Bid'] - mid\n",
    "        \n",
    "        if trade_time == TTE_time: trigger = 'TTE'\n",
    "        elif trade_time == SL_time: trigger = 'SL'\n",
    "        else: trigger = 'Else'\n",
    "        \n",
    "        PnL_df.loc[i, 'OMMSide PnL'] = PnL\n",
    "        PnL_df.loc[i, 'OMMSide Time to Execute'] = trade_time - order_time\n",
    "        PnL_df.loc[i, 'OMMSide Trigger'] = trigger\n",
    "    \n",
    "    return PnL_df"
   ]
  },
  {
   "cell_type": "code",
   "execution_count": 256,
   "metadata": {},
   "outputs": [],
   "source": [
    "OMMSide_PnL = OMMSide(order, tick, SL, TTE)"
   ]
  },
  {
   "cell_type": "code",
   "execution_count": 257,
   "metadata": {
    "scrolled": false
   },
   "outputs": [
    {
     "data": {
      "text/html": [
       "<div>\n",
       "<style scoped>\n",
       "    .dataframe tbody tr th:only-of-type {\n",
       "        vertical-align: middle;\n",
       "    }\n",
       "\n",
       "    .dataframe tbody tr th {\n",
       "        vertical-align: top;\n",
       "    }\n",
       "\n",
       "    .dataframe thead th {\n",
       "        text-align: right;\n",
       "    }\n",
       "</style>\n",
       "<table border=\"1\" class=\"dataframe\">\n",
       "  <thead>\n",
       "    <tr style=\"text-align: right;\">\n",
       "      <th></th>\n",
       "      <th>OMMSide PnL</th>\n",
       "      <th>OMMSide Time to Execute</th>\n",
       "      <th>OMMSide Trigger</th>\n",
       "    </tr>\n",
       "    <tr>\n",
       "      <th>DateTime</th>\n",
       "      <th></th>\n",
       "      <th></th>\n",
       "      <th></th>\n",
       "    </tr>\n",
       "  </thead>\n",
       "  <tbody>\n",
       "    <tr>\n",
       "      <th>2018-01-08 07:38:48.384800</th>\n",
       "      <td>0.000020</td>\n",
       "      <td>00:00:02.022200</td>\n",
       "      <td>Else</td>\n",
       "    </tr>\n",
       "    <tr>\n",
       "      <th>2018-01-08 08:10:55.105500</th>\n",
       "      <td>0.000020</td>\n",
       "      <td>00:00:05.976500</td>\n",
       "      <td>Else</td>\n",
       "    </tr>\n",
       "    <tr>\n",
       "      <th>2018-01-08 08:19:10.191000</th>\n",
       "      <td>-0.000095</td>\n",
       "      <td>00:00:10.214000</td>\n",
       "      <td>TTE</td>\n",
       "    </tr>\n",
       "    <tr>\n",
       "      <th>2018-01-08 08:23:16.231600</th>\n",
       "      <td>-0.000010</td>\n",
       "      <td>00:00:13.521400</td>\n",
       "      <td>TTE</td>\n",
       "    </tr>\n",
       "    <tr>\n",
       "      <th>2018-01-08 08:34:40.344000</th>\n",
       "      <td>0.000005</td>\n",
       "      <td>00:00:00.534000</td>\n",
       "      <td>Else</td>\n",
       "    </tr>\n",
       "  </tbody>\n",
       "</table>\n",
       "</div>"
      ],
      "text/plain": [
       "                            OMMSide PnL OMMSide Time to Execute  \\\n",
       "DateTime                                                          \n",
       "2018-01-08 07:38:48.384800     0.000020         00:00:02.022200   \n",
       "2018-01-08 08:10:55.105500     0.000020         00:00:05.976500   \n",
       "2018-01-08 08:19:10.191000    -0.000095         00:00:10.214000   \n",
       "2018-01-08 08:23:16.231600    -0.000010         00:00:13.521400   \n",
       "2018-01-08 08:34:40.344000     0.000005         00:00:00.534000   \n",
       "\n",
       "                           OMMSide Trigger  \n",
       "DateTime                                    \n",
       "2018-01-08 07:38:48.384800            Else  \n",
       "2018-01-08 08:10:55.105500            Else  \n",
       "2018-01-08 08:19:10.191000             TTE  \n",
       "2018-01-08 08:23:16.231600             TTE  \n",
       "2018-01-08 08:34:40.344000            Else  "
      ]
     },
     "execution_count": 257,
     "metadata": {},
     "output_type": "execute_result"
    }
   ],
   "source": [
    "OMMSide_PnL.head()"
   ]
  },
  {
   "cell_type": "markdown",
   "metadata": {},
   "source": [
    "# Analysis"
   ]
  },
  {
   "cell_type": "code",
   "execution_count": 75,
   "metadata": {},
   "outputs": [],
   "source": [
    "PnL = pd.concat([order['trade_id'], MT_PnL, OMMSide_PnL, OMMMid_PnL], axis=1)"
   ]
  },
  {
   "cell_type": "code",
   "execution_count": 76,
   "metadata": {
    "scrolled": true
   },
   "outputs": [
    {
     "data": {
      "text/html": [
       "<div>\n",
       "<style scoped>\n",
       "    .dataframe tbody tr th:only-of-type {\n",
       "        vertical-align: middle;\n",
       "    }\n",
       "\n",
       "    .dataframe tbody tr th {\n",
       "        vertical-align: top;\n",
       "    }\n",
       "\n",
       "    .dataframe thead th {\n",
       "        text-align: right;\n",
       "    }\n",
       "</style>\n",
       "<table border=\"1\" class=\"dataframe\">\n",
       "  <thead>\n",
       "    <tr style=\"text-align: right;\">\n",
       "      <th></th>\n",
       "      <th>trade_id</th>\n",
       "      <th>MT PnL</th>\n",
       "      <th>MT Executed Time</th>\n",
       "      <th>OMMSide PnL</th>\n",
       "      <th>OMMSide Time to Execute</th>\n",
       "      <th>OMMSide Trigger</th>\n",
       "      <th>OMMMid PnL</th>\n",
       "      <th>OMMMid Time to Execute</th>\n",
       "      <th>OMMMid Trigger</th>\n",
       "    </tr>\n",
       "    <tr>\n",
       "      <th>DateTime</th>\n",
       "      <th></th>\n",
       "      <th></th>\n",
       "      <th></th>\n",
       "      <th></th>\n",
       "      <th></th>\n",
       "      <th></th>\n",
       "      <th></th>\n",
       "      <th></th>\n",
       "      <th></th>\n",
       "    </tr>\n",
       "  </thead>\n",
       "  <tbody>\n",
       "    <tr>\n",
       "      <th>2018-01-07 19:07:49</th>\n",
       "      <td>107414</td>\n",
       "      <td>-0.000280</td>\n",
       "      <td>2018-01-07 22:02:03.832</td>\n",
       "      <td>-0.000280</td>\n",
       "      <td>00:00:00</td>\n",
       "      <td>SL</td>\n",
       "      <td>-0.000280</td>\n",
       "      <td>00:00:00</td>\n",
       "      <td>SL</td>\n",
       "    </tr>\n",
       "    <tr>\n",
       "      <th>2018-01-07 19:15:23</th>\n",
       "      <td>107427</td>\n",
       "      <td>-0.000280</td>\n",
       "      <td>2018-01-07 22:02:03.832</td>\n",
       "      <td>-0.000280</td>\n",
       "      <td>00:00:00</td>\n",
       "      <td>SL</td>\n",
       "      <td>-0.000280</td>\n",
       "      <td>00:00:00</td>\n",
       "      <td>SL</td>\n",
       "    </tr>\n",
       "    <tr>\n",
       "      <th>2018-01-08 07:38:48</th>\n",
       "      <td>107638</td>\n",
       "      <td>-0.000010</td>\n",
       "      <td>2018-01-08 07:38:49.708</td>\n",
       "      <td>0.000020</td>\n",
       "      <td>00:00:00.699000</td>\n",
       "      <td>Else</td>\n",
       "      <td>0.000000</td>\n",
       "      <td>00:00:00.079000</td>\n",
       "      <td>Else</td>\n",
       "    </tr>\n",
       "    <tr>\n",
       "      <th>2018-01-08 08:10:55</th>\n",
       "      <td>107649</td>\n",
       "      <td>-0.000020</td>\n",
       "      <td>2018-01-08 08:10:55.233</td>\n",
       "      <td>0.000020</td>\n",
       "      <td>00:00:05.849000</td>\n",
       "      <td>Else</td>\n",
       "      <td>0.000020</td>\n",
       "      <td>00:00:05.849000</td>\n",
       "      <td>Else</td>\n",
       "    </tr>\n",
       "    <tr>\n",
       "      <th>2018-01-08 08:19:10</th>\n",
       "      <td>107654</td>\n",
       "      <td>-0.000015</td>\n",
       "      <td>2018-01-08 08:19:10.033</td>\n",
       "      <td>-0.000105</td>\n",
       "      <td>00:00:09.437000</td>\n",
       "      <td>TTE</td>\n",
       "      <td>-0.000105</td>\n",
       "      <td>00:00:09.437000</td>\n",
       "      <td>TTE</td>\n",
       "    </tr>\n",
       "  </tbody>\n",
       "</table>\n",
       "</div>"
      ],
      "text/plain": [
       "                     trade_id    MT PnL        MT Executed Time  OMMSide PnL  \\\n",
       "DateTime                                                                       \n",
       "2018-01-07 19:07:49    107414 -0.000280 2018-01-07 22:02:03.832    -0.000280   \n",
       "2018-01-07 19:15:23    107427 -0.000280 2018-01-07 22:02:03.832    -0.000280   \n",
       "2018-01-08 07:38:48    107638 -0.000010 2018-01-08 07:38:49.708     0.000020   \n",
       "2018-01-08 08:10:55    107649 -0.000020 2018-01-08 08:10:55.233     0.000020   \n",
       "2018-01-08 08:19:10    107654 -0.000015 2018-01-08 08:19:10.033    -0.000105   \n",
       "\n",
       "                    OMMSide Time to Execute OMMSide Trigger  OMMMid PnL  \\\n",
       "DateTime                                                                  \n",
       "2018-01-07 19:07:49                00:00:00              SL   -0.000280   \n",
       "2018-01-07 19:15:23                00:00:00              SL   -0.000280   \n",
       "2018-01-08 07:38:48         00:00:00.699000            Else    0.000000   \n",
       "2018-01-08 08:10:55         00:00:05.849000            Else    0.000020   \n",
       "2018-01-08 08:19:10         00:00:09.437000             TTE   -0.000105   \n",
       "\n",
       "                    OMMMid Time to Execute OMMMid Trigger  \n",
       "DateTime                                                   \n",
       "2018-01-07 19:07:49               00:00:00             SL  \n",
       "2018-01-07 19:15:23               00:00:00             SL  \n",
       "2018-01-08 07:38:48        00:00:00.079000           Else  \n",
       "2018-01-08 08:10:55        00:00:05.849000           Else  \n",
       "2018-01-08 08:19:10        00:00:09.437000            TTE  "
      ]
     },
     "execution_count": 76,
     "metadata": {},
     "output_type": "execute_result"
    }
   ],
   "source": [
    "PnL.head()"
   ]
  },
  {
   "cell_type": "code",
   "execution_count": 77,
   "metadata": {},
   "outputs": [],
   "source": [
    "PnL['minimum PnL'] = PnL.loc[:, ['MT PnL', 'OMMSide PnL', 'OMMMid PnL']].min(axis=1)\n",
    "PnL['average PnL'] = PnL.loc[:, ['MT PnL', 'OMMSide PnL', 'OMMMid PnL']].mean(axis=1)\n",
    "PnL['median PnL'] = PnL.loc[:, ['MT PnL', 'OMMSide PnL', 'OMMMid PnL']].median(axis=1)"
   ]
  },
  {
   "cell_type": "code",
   "execution_count": 78,
   "metadata": {
    "scrolled": true
   },
   "outputs": [
    {
     "data": {
      "text/html": [
       "<div>\n",
       "<style scoped>\n",
       "    .dataframe tbody tr th:only-of-type {\n",
       "        vertical-align: middle;\n",
       "    }\n",
       "\n",
       "    .dataframe tbody tr th {\n",
       "        vertical-align: top;\n",
       "    }\n",
       "\n",
       "    .dataframe thead th {\n",
       "        text-align: right;\n",
       "    }\n",
       "</style>\n",
       "<table border=\"1\" class=\"dataframe\">\n",
       "  <thead>\n",
       "    <tr style=\"text-align: right;\">\n",
       "      <th></th>\n",
       "      <th>trade_id</th>\n",
       "      <th>MT PnL</th>\n",
       "      <th>MT Executed Time</th>\n",
       "      <th>OMMSide PnL</th>\n",
       "      <th>OMMSide Time to Execute</th>\n",
       "      <th>OMMSide Trigger</th>\n",
       "      <th>OMMMid PnL</th>\n",
       "      <th>OMMMid Time to Execute</th>\n",
       "      <th>OMMMid Trigger</th>\n",
       "      <th>minimum PnL</th>\n",
       "      <th>average PnL</th>\n",
       "      <th>median PnL</th>\n",
       "    </tr>\n",
       "    <tr>\n",
       "      <th>DateTime</th>\n",
       "      <th></th>\n",
       "      <th></th>\n",
       "      <th></th>\n",
       "      <th></th>\n",
       "      <th></th>\n",
       "      <th></th>\n",
       "      <th></th>\n",
       "      <th></th>\n",
       "      <th></th>\n",
       "      <th></th>\n",
       "      <th></th>\n",
       "      <th></th>\n",
       "    </tr>\n",
       "  </thead>\n",
       "  <tbody>\n",
       "    <tr>\n",
       "      <th>2018-01-07 19:07:49</th>\n",
       "      <td>107414</td>\n",
       "      <td>-0.000280</td>\n",
       "      <td>2018-01-07 22:02:03.832</td>\n",
       "      <td>-0.000280</td>\n",
       "      <td>00:00:00</td>\n",
       "      <td>SL</td>\n",
       "      <td>-0.000280</td>\n",
       "      <td>00:00:00</td>\n",
       "      <td>SL</td>\n",
       "      <td>-0.000280</td>\n",
       "      <td>-0.000280</td>\n",
       "      <td>-0.000280</td>\n",
       "    </tr>\n",
       "    <tr>\n",
       "      <th>2018-01-07 19:15:23</th>\n",
       "      <td>107427</td>\n",
       "      <td>-0.000280</td>\n",
       "      <td>2018-01-07 22:02:03.832</td>\n",
       "      <td>-0.000280</td>\n",
       "      <td>00:00:00</td>\n",
       "      <td>SL</td>\n",
       "      <td>-0.000280</td>\n",
       "      <td>00:00:00</td>\n",
       "      <td>SL</td>\n",
       "      <td>-0.000280</td>\n",
       "      <td>-0.000280</td>\n",
       "      <td>-0.000280</td>\n",
       "    </tr>\n",
       "    <tr>\n",
       "      <th>2018-01-08 07:38:48</th>\n",
       "      <td>107638</td>\n",
       "      <td>-0.000010</td>\n",
       "      <td>2018-01-08 07:38:49.708</td>\n",
       "      <td>0.000020</td>\n",
       "      <td>00:00:00.699000</td>\n",
       "      <td>Else</td>\n",
       "      <td>0.000000</td>\n",
       "      <td>00:00:00.079000</td>\n",
       "      <td>Else</td>\n",
       "      <td>-0.000010</td>\n",
       "      <td>0.000003</td>\n",
       "      <td>0.000000</td>\n",
       "    </tr>\n",
       "    <tr>\n",
       "      <th>2018-01-08 08:10:55</th>\n",
       "      <td>107649</td>\n",
       "      <td>-0.000020</td>\n",
       "      <td>2018-01-08 08:10:55.233</td>\n",
       "      <td>0.000020</td>\n",
       "      <td>00:00:05.849000</td>\n",
       "      <td>Else</td>\n",
       "      <td>0.000020</td>\n",
       "      <td>00:00:05.849000</td>\n",
       "      <td>Else</td>\n",
       "      <td>-0.000020</td>\n",
       "      <td>0.000007</td>\n",
       "      <td>0.000020</td>\n",
       "    </tr>\n",
       "    <tr>\n",
       "      <th>2018-01-08 08:19:10</th>\n",
       "      <td>107654</td>\n",
       "      <td>-0.000015</td>\n",
       "      <td>2018-01-08 08:19:10.033</td>\n",
       "      <td>-0.000105</td>\n",
       "      <td>00:00:09.437000</td>\n",
       "      <td>TTE</td>\n",
       "      <td>-0.000105</td>\n",
       "      <td>00:00:09.437000</td>\n",
       "      <td>TTE</td>\n",
       "      <td>-0.000105</td>\n",
       "      <td>-0.000075</td>\n",
       "      <td>-0.000105</td>\n",
       "    </tr>\n",
       "  </tbody>\n",
       "</table>\n",
       "</div>"
      ],
      "text/plain": [
       "                     trade_id    MT PnL        MT Executed Time  OMMSide PnL  \\\n",
       "DateTime                                                                       \n",
       "2018-01-07 19:07:49    107414 -0.000280 2018-01-07 22:02:03.832    -0.000280   \n",
       "2018-01-07 19:15:23    107427 -0.000280 2018-01-07 22:02:03.832    -0.000280   \n",
       "2018-01-08 07:38:48    107638 -0.000010 2018-01-08 07:38:49.708     0.000020   \n",
       "2018-01-08 08:10:55    107649 -0.000020 2018-01-08 08:10:55.233     0.000020   \n",
       "2018-01-08 08:19:10    107654 -0.000015 2018-01-08 08:19:10.033    -0.000105   \n",
       "\n",
       "                    OMMSide Time to Execute OMMSide Trigger  OMMMid PnL  \\\n",
       "DateTime                                                                  \n",
       "2018-01-07 19:07:49                00:00:00              SL   -0.000280   \n",
       "2018-01-07 19:15:23                00:00:00              SL   -0.000280   \n",
       "2018-01-08 07:38:48         00:00:00.699000            Else    0.000000   \n",
       "2018-01-08 08:10:55         00:00:05.849000            Else    0.000020   \n",
       "2018-01-08 08:19:10         00:00:09.437000             TTE   -0.000105   \n",
       "\n",
       "                    OMMMid Time to Execute OMMMid Trigger  minimum PnL  \\\n",
       "DateTime                                                                 \n",
       "2018-01-07 19:07:49               00:00:00             SL    -0.000280   \n",
       "2018-01-07 19:15:23               00:00:00             SL    -0.000280   \n",
       "2018-01-08 07:38:48        00:00:00.079000           Else    -0.000010   \n",
       "2018-01-08 08:10:55        00:00:05.849000           Else    -0.000020   \n",
       "2018-01-08 08:19:10        00:00:09.437000            TTE    -0.000105   \n",
       "\n",
       "                     average PnL  median PnL  \n",
       "DateTime                                      \n",
       "2018-01-07 19:07:49    -0.000280   -0.000280  \n",
       "2018-01-07 19:15:23    -0.000280   -0.000280  \n",
       "2018-01-08 07:38:48     0.000003    0.000000  \n",
       "2018-01-08 08:10:55     0.000007    0.000020  \n",
       "2018-01-08 08:19:10    -0.000075   -0.000105  "
      ]
     },
     "execution_count": 78,
     "metadata": {},
     "output_type": "execute_result"
    }
   ],
   "source": [
    "PnL.head()"
   ]
  }
 ],
 "metadata": {
  "kernelspec": {
   "display_name": "Python 3",
   "language": "python",
   "name": "python3"
  },
  "language_info": {
   "codemirror_mode": {
    "name": "ipython",
    "version": 3
   },
   "file_extension": ".py",
   "mimetype": "text/x-python",
   "name": "python",
   "nbconvert_exporter": "python",
   "pygments_lexer": "ipython3",
   "version": "3.6.8"
  },
  "toc": {
   "base_numbering": 1,
   "nav_menu": {},
   "number_sections": true,
   "sideBar": true,
   "skip_h1_title": false,
   "title_cell": "Table of Contents",
   "title_sidebar": "Contents",
   "toc_cell": false,
   "toc_position": {
    "height": "calc(100% - 180px)",
    "left": "10px",
    "top": "150px",
    "width": "222.188px"
   },
   "toc_section_display": true,
   "toc_window_display": true
  }
 },
 "nbformat": 4,
 "nbformat_minor": 2
}
